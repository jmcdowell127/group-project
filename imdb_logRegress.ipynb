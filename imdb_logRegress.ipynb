{
 "cells": [
  {
   "cell_type": "code",
   "execution_count": 1,
   "id": "c58ec6b5",
   "metadata": {},
   "outputs": [],
   "source": [
    "# import dependencies\n",
    "import pandas as pd                     #Load libraries\n",
    "import matplotlib.pyplot as plt\n",
    "import seaborn as sns\n",
    "import numpy as np\n",
    "from pandas import Series\n",
    "from scipy import stats\n",
    "import requests, re\n",
    "from scipy.stats import norm\n",
    "from sklearn import preprocessing\n",
    "from sklearn.preprocessing import minmax_scale\n",
    "from sklearn.model_selection import train_test_split\n",
    "from sklearn.linear_model import LogisticRegression\n",
    "from sklearn import metrics\n",
    "from sklearn.feature_selection import RFE\n",
    "from sklearn.linear_model import Ridge\n",
    "import os\n",
    "import sqlalchemy\n",
    "from sqlalchemy.ext.automap import automap_base\n",
    "from sqlalchemy.orm import Session\n",
    "from sqlalchemy import create_engine, func\n",
    "from sqlalchemy import extract\n",
    "import sqlite3 as sql"
   ]
  },
  {
   "cell_type": "code",
   "execution_count": 2,
   "id": "f292c32f",
   "metadata": {},
   "outputs": [
    {
     "data": {
      "text/html": [
       "<div>\n",
       "<style scoped>\n",
       "    .dataframe tbody tr th:only-of-type {\n",
       "        vertical-align: middle;\n",
       "    }\n",
       "\n",
       "    .dataframe tbody tr th {\n",
       "        vertical-align: top;\n",
       "    }\n",
       "\n",
       "    .dataframe thead th {\n",
       "        text-align: right;\n",
       "    }\n",
       "</style>\n",
       "<table border=\"1\" class=\"dataframe\">\n",
       "  <thead>\n",
       "    <tr style=\"text-align: right;\">\n",
       "      <th></th>\n",
       "      <th>imdb_title_id</th>\n",
       "      <th>title</th>\n",
       "      <th>original_title</th>\n",
       "      <th>year</th>\n",
       "      <th>date_published</th>\n",
       "      <th>genre</th>\n",
       "      <th>duration</th>\n",
       "      <th>country</th>\n",
       "      <th>language</th>\n",
       "      <th>director</th>\n",
       "      <th>...</th>\n",
       "      <th>actors</th>\n",
       "      <th>description</th>\n",
       "      <th>avg_vote</th>\n",
       "      <th>votes</th>\n",
       "      <th>budget</th>\n",
       "      <th>usa_gross_income</th>\n",
       "      <th>worlwide_gross_income</th>\n",
       "      <th>metascore</th>\n",
       "      <th>reviews_from_users</th>\n",
       "      <th>reviews_from_critics</th>\n",
       "    </tr>\n",
       "  </thead>\n",
       "  <tbody>\n",
       "    <tr>\n",
       "      <th>0</th>\n",
       "      <td>tt0000009</td>\n",
       "      <td>Miss Jerry</td>\n",
       "      <td>Miss Jerry</td>\n",
       "      <td>1894</td>\n",
       "      <td>1894-10-09</td>\n",
       "      <td>Romance</td>\n",
       "      <td>45</td>\n",
       "      <td>USA</td>\n",
       "      <td>None</td>\n",
       "      <td>Alexander Black</td>\n",
       "      <td>...</td>\n",
       "      <td>Blanche Bayliss, William Courtenay, Chauncey D...</td>\n",
       "      <td>The adventures of a female reporter in the 1890s.</td>\n",
       "      <td>5.9</td>\n",
       "      <td>154</td>\n",
       "      <td>None</td>\n",
       "      <td>None</td>\n",
       "      <td>None</td>\n",
       "      <td>None</td>\n",
       "      <td>1.0</td>\n",
       "      <td>2.0</td>\n",
       "    </tr>\n",
       "    <tr>\n",
       "      <th>1</th>\n",
       "      <td>tt0000574</td>\n",
       "      <td>The Story of the Kelly Gang</td>\n",
       "      <td>The Story of the Kelly Gang</td>\n",
       "      <td>1906</td>\n",
       "      <td>1906-12-26</td>\n",
       "      <td>Biography, Crime, Drama</td>\n",
       "      <td>70</td>\n",
       "      <td>Australia</td>\n",
       "      <td>None</td>\n",
       "      <td>Charles Tait</td>\n",
       "      <td>...</td>\n",
       "      <td>Elizabeth Tait, John Tait, Norman Campbell, Be...</td>\n",
       "      <td>True story of notorious Australian outlaw Ned ...</td>\n",
       "      <td>6.1</td>\n",
       "      <td>589</td>\n",
       "      <td>$ 2250</td>\n",
       "      <td>None</td>\n",
       "      <td>None</td>\n",
       "      <td>None</td>\n",
       "      <td>7.0</td>\n",
       "      <td>7.0</td>\n",
       "    </tr>\n",
       "    <tr>\n",
       "      <th>2</th>\n",
       "      <td>tt0001892</td>\n",
       "      <td>Den sorte drøm</td>\n",
       "      <td>Den sorte drøm</td>\n",
       "      <td>1911</td>\n",
       "      <td>1911-08-19</td>\n",
       "      <td>Drama</td>\n",
       "      <td>53</td>\n",
       "      <td>Germany, Denmark</td>\n",
       "      <td>None</td>\n",
       "      <td>Urban Gad</td>\n",
       "      <td>...</td>\n",
       "      <td>Asta Nielsen, Valdemar Psilander, Gunnar Helse...</td>\n",
       "      <td>Two men of high rank are both wooing the beaut...</td>\n",
       "      <td>5.8</td>\n",
       "      <td>188</td>\n",
       "      <td>None</td>\n",
       "      <td>None</td>\n",
       "      <td>None</td>\n",
       "      <td>None</td>\n",
       "      <td>5.0</td>\n",
       "      <td>2.0</td>\n",
       "    </tr>\n",
       "    <tr>\n",
       "      <th>3</th>\n",
       "      <td>tt0002101</td>\n",
       "      <td>Cleopatra</td>\n",
       "      <td>Cleopatra</td>\n",
       "      <td>1912</td>\n",
       "      <td>1912-11-13</td>\n",
       "      <td>Drama, History</td>\n",
       "      <td>100</td>\n",
       "      <td>USA</td>\n",
       "      <td>English</td>\n",
       "      <td>Charles L. Gaskill</td>\n",
       "      <td>...</td>\n",
       "      <td>Helen Gardner, Pearl Sindelar, Miss Fielding, ...</td>\n",
       "      <td>The fabled queen of Egypt's affair with Roman ...</td>\n",
       "      <td>5.2</td>\n",
       "      <td>446</td>\n",
       "      <td>$ 45000</td>\n",
       "      <td>None</td>\n",
       "      <td>None</td>\n",
       "      <td>None</td>\n",
       "      <td>25.0</td>\n",
       "      <td>3.0</td>\n",
       "    </tr>\n",
       "    <tr>\n",
       "      <th>4</th>\n",
       "      <td>tt0002130</td>\n",
       "      <td>L'Inferno</td>\n",
       "      <td>L'Inferno</td>\n",
       "      <td>1911</td>\n",
       "      <td>1911-03-06</td>\n",
       "      <td>Adventure, Drama, Fantasy</td>\n",
       "      <td>68</td>\n",
       "      <td>Italy</td>\n",
       "      <td>Italian</td>\n",
       "      <td>Francesco Bertolini, Adolfo Padovan</td>\n",
       "      <td>...</td>\n",
       "      <td>Salvatore Papa, Arturo Pirovano, Giuseppe de L...</td>\n",
       "      <td>Loosely adapted from Dante's Divine Comedy and...</td>\n",
       "      <td>7.0</td>\n",
       "      <td>2237</td>\n",
       "      <td>None</td>\n",
       "      <td>None</td>\n",
       "      <td>None</td>\n",
       "      <td>None</td>\n",
       "      <td>31.0</td>\n",
       "      <td>14.0</td>\n",
       "    </tr>\n",
       "  </tbody>\n",
       "</table>\n",
       "<p>5 rows × 22 columns</p>\n",
       "</div>"
      ],
      "text/plain": [
       "  imdb_title_id                        title               original_title  \\\n",
       "0     tt0000009                   Miss Jerry                   Miss Jerry   \n",
       "1     tt0000574  The Story of the Kelly Gang  The Story of the Kelly Gang   \n",
       "2     tt0001892               Den sorte drøm               Den sorte drøm   \n",
       "3     tt0002101                    Cleopatra                    Cleopatra   \n",
       "4     tt0002130                    L'Inferno                    L'Inferno   \n",
       "\n",
       "   year date_published                      genre  duration           country  \\\n",
       "0  1894     1894-10-09                    Romance        45               USA   \n",
       "1  1906     1906-12-26    Biography, Crime, Drama        70         Australia   \n",
       "2  1911     1911-08-19                      Drama        53  Germany, Denmark   \n",
       "3  1912     1912-11-13             Drama, History       100               USA   \n",
       "4  1911     1911-03-06  Adventure, Drama, Fantasy        68             Italy   \n",
       "\n",
       "  language                             director  ...  \\\n",
       "0     None                      Alexander Black  ...   \n",
       "1     None                         Charles Tait  ...   \n",
       "2     None                            Urban Gad  ...   \n",
       "3  English                   Charles L. Gaskill  ...   \n",
       "4  Italian  Francesco Bertolini, Adolfo Padovan  ...   \n",
       "\n",
       "                                              actors  \\\n",
       "0  Blanche Bayliss, William Courtenay, Chauncey D...   \n",
       "1  Elizabeth Tait, John Tait, Norman Campbell, Be...   \n",
       "2  Asta Nielsen, Valdemar Psilander, Gunnar Helse...   \n",
       "3  Helen Gardner, Pearl Sindelar, Miss Fielding, ...   \n",
       "4  Salvatore Papa, Arturo Pirovano, Giuseppe de L...   \n",
       "\n",
       "                                         description avg_vote votes   budget  \\\n",
       "0  The adventures of a female reporter in the 1890s.      5.9   154     None   \n",
       "1  True story of notorious Australian outlaw Ned ...      6.1   589   $ 2250   \n",
       "2  Two men of high rank are both wooing the beaut...      5.8   188     None   \n",
       "3  The fabled queen of Egypt's affair with Roman ...      5.2   446  $ 45000   \n",
       "4  Loosely adapted from Dante's Divine Comedy and...      7.0  2237     None   \n",
       "\n",
       "   usa_gross_income worlwide_gross_income metascore reviews_from_users  \\\n",
       "0              None                  None      None                1.0   \n",
       "1              None                  None      None                7.0   \n",
       "2              None                  None      None                5.0   \n",
       "3              None                  None      None               25.0   \n",
       "4              None                  None      None               31.0   \n",
       "\n",
       "  reviews_from_critics  \n",
       "0                  2.0  \n",
       "1                  7.0  \n",
       "2                  2.0  \n",
       "3                  3.0  \n",
       "4                 14.0  \n",
       "\n",
       "[5 rows x 22 columns]"
      ]
     },
     "execution_count": 2,
     "metadata": {},
     "output_type": "execute_result"
    }
   ],
   "source": [
    "# load data\n",
    "db = sqlalchemy.create_engine('sqlite:///movies.sqlite')\n",
    "imdb_df = pd.read_sql('select * from movies', db)\n",
    "imdb_df.head()"
   ]
  },
  {
   "cell_type": "code",
   "execution_count": 3,
   "id": "d2e13ed3",
   "metadata": {},
   "outputs": [
    {
     "data": {
      "text/plain": [
       "Index(['imdb_title_id', 'title', 'original_title', 'year', 'date_published',\n",
       "       'genre', 'duration', 'country', 'language', 'director', 'writer',\n",
       "       'production_company', 'actors', 'description', 'avg_vote', 'votes',\n",
       "       'budget', 'usa_gross_income', 'worlwide_gross_income', 'metascore',\n",
       "       'reviews_from_users', 'reviews_from_critics'],\n",
       "      dtype='object')"
      ]
     },
     "execution_count": 3,
     "metadata": {},
     "output_type": "execute_result"
    }
   ],
   "source": [
    "imdb_df.columns"
   ]
  },
  {
   "cell_type": "code",
   "execution_count": 4,
   "id": "57cf7a14",
   "metadata": {},
   "outputs": [
    {
     "data": {
      "text/html": [
       "<div>\n",
       "<style scoped>\n",
       "    .dataframe tbody tr th:only-of-type {\n",
       "        vertical-align: middle;\n",
       "    }\n",
       "\n",
       "    .dataframe tbody tr th {\n",
       "        vertical-align: top;\n",
       "    }\n",
       "\n",
       "    .dataframe thead th {\n",
       "        text-align: right;\n",
       "    }\n",
       "</style>\n",
       "<table border=\"1\" class=\"dataframe\">\n",
       "  <thead>\n",
       "    <tr style=\"text-align: right;\">\n",
       "      <th></th>\n",
       "      <th>title</th>\n",
       "      <th>year</th>\n",
       "      <th>date_published</th>\n",
       "      <th>genre</th>\n",
       "      <th>duration</th>\n",
       "      <th>country</th>\n",
       "      <th>language</th>\n",
       "      <th>budget</th>\n",
       "      <th>usa_gross_income</th>\n",
       "      <th>worlwide_gross_income</th>\n",
       "      <th>metascore</th>\n",
       "      <th>reviews_from_users</th>\n",
       "      <th>reviews_from_critics</th>\n",
       "    </tr>\n",
       "  </thead>\n",
       "  <tbody>\n",
       "    <tr>\n",
       "      <th>0</th>\n",
       "      <td>Miss Jerry</td>\n",
       "      <td>1894</td>\n",
       "      <td>1894-10-09</td>\n",
       "      <td>Romance</td>\n",
       "      <td>45</td>\n",
       "      <td>USA</td>\n",
       "      <td>None</td>\n",
       "      <td>None</td>\n",
       "      <td>None</td>\n",
       "      <td>None</td>\n",
       "      <td>None</td>\n",
       "      <td>1.0</td>\n",
       "      <td>2.0</td>\n",
       "    </tr>\n",
       "    <tr>\n",
       "      <th>1</th>\n",
       "      <td>The Story of the Kelly Gang</td>\n",
       "      <td>1906</td>\n",
       "      <td>1906-12-26</td>\n",
       "      <td>Biography, Crime, Drama</td>\n",
       "      <td>70</td>\n",
       "      <td>Australia</td>\n",
       "      <td>None</td>\n",
       "      <td>$ 2250</td>\n",
       "      <td>None</td>\n",
       "      <td>None</td>\n",
       "      <td>None</td>\n",
       "      <td>7.0</td>\n",
       "      <td>7.0</td>\n",
       "    </tr>\n",
       "    <tr>\n",
       "      <th>2</th>\n",
       "      <td>Den sorte drøm</td>\n",
       "      <td>1911</td>\n",
       "      <td>1911-08-19</td>\n",
       "      <td>Drama</td>\n",
       "      <td>53</td>\n",
       "      <td>Germany, Denmark</td>\n",
       "      <td>None</td>\n",
       "      <td>None</td>\n",
       "      <td>None</td>\n",
       "      <td>None</td>\n",
       "      <td>None</td>\n",
       "      <td>5.0</td>\n",
       "      <td>2.0</td>\n",
       "    </tr>\n",
       "    <tr>\n",
       "      <th>3</th>\n",
       "      <td>Cleopatra</td>\n",
       "      <td>1912</td>\n",
       "      <td>1912-11-13</td>\n",
       "      <td>Drama, History</td>\n",
       "      <td>100</td>\n",
       "      <td>USA</td>\n",
       "      <td>English</td>\n",
       "      <td>$ 45000</td>\n",
       "      <td>None</td>\n",
       "      <td>None</td>\n",
       "      <td>None</td>\n",
       "      <td>25.0</td>\n",
       "      <td>3.0</td>\n",
       "    </tr>\n",
       "    <tr>\n",
       "      <th>4</th>\n",
       "      <td>L'Inferno</td>\n",
       "      <td>1911</td>\n",
       "      <td>1911-03-06</td>\n",
       "      <td>Adventure, Drama, Fantasy</td>\n",
       "      <td>68</td>\n",
       "      <td>Italy</td>\n",
       "      <td>Italian</td>\n",
       "      <td>None</td>\n",
       "      <td>None</td>\n",
       "      <td>None</td>\n",
       "      <td>None</td>\n",
       "      <td>31.0</td>\n",
       "      <td>14.0</td>\n",
       "    </tr>\n",
       "  </tbody>\n",
       "</table>\n",
       "</div>"
      ],
      "text/plain": [
       "                         title  year date_published  \\\n",
       "0                   Miss Jerry  1894     1894-10-09   \n",
       "1  The Story of the Kelly Gang  1906     1906-12-26   \n",
       "2               Den sorte drøm  1911     1911-08-19   \n",
       "3                    Cleopatra  1912     1912-11-13   \n",
       "4                    L'Inferno  1911     1911-03-06   \n",
       "\n",
       "                       genre  duration           country language   budget  \\\n",
       "0                    Romance        45               USA     None     None   \n",
       "1    Biography, Crime, Drama        70         Australia     None   $ 2250   \n",
       "2                      Drama        53  Germany, Denmark     None     None   \n",
       "3             Drama, History       100               USA  English  $ 45000   \n",
       "4  Adventure, Drama, Fantasy        68             Italy  Italian     None   \n",
       "\n",
       "  usa_gross_income worlwide_gross_income metascore reviews_from_users  \\\n",
       "0             None                  None      None                1.0   \n",
       "1             None                  None      None                7.0   \n",
       "2             None                  None      None                5.0   \n",
       "3             None                  None      None               25.0   \n",
       "4             None                  None      None               31.0   \n",
       "\n",
       "  reviews_from_critics  \n",
       "0                  2.0  \n",
       "1                  7.0  \n",
       "2                  2.0  \n",
       "3                  3.0  \n",
       "4                 14.0  "
      ]
     },
     "execution_count": 4,
     "metadata": {},
     "output_type": "execute_result"
    }
   ],
   "source": [
    "# drop columns\n",
    "imdb_df = imdb_df.drop(columns=['imdb_title_id', 'original_title', 'director', 'writer', 'production_company', 'actors','description', 'avg_vote', 'votes'])\n",
    "imdb_df.head()"
   ]
  },
  {
   "cell_type": "code",
   "execution_count": 5,
   "id": "f37c86f2",
   "metadata": {},
   "outputs": [
    {
     "data": {
      "text/html": [
       "<div>\n",
       "<style scoped>\n",
       "    .dataframe tbody tr th:only-of-type {\n",
       "        vertical-align: middle;\n",
       "    }\n",
       "\n",
       "    .dataframe tbody tr th {\n",
       "        vertical-align: top;\n",
       "    }\n",
       "\n",
       "    .dataframe thead th {\n",
       "        text-align: right;\n",
       "    }\n",
       "</style>\n",
       "<table border=\"1\" class=\"dataframe\">\n",
       "  <thead>\n",
       "    <tr style=\"text-align: right;\">\n",
       "      <th></th>\n",
       "      <th>title</th>\n",
       "      <th>year</th>\n",
       "      <th>date_published</th>\n",
       "      <th>genre</th>\n",
       "      <th>duration</th>\n",
       "      <th>country</th>\n",
       "      <th>language</th>\n",
       "      <th>budget</th>\n",
       "      <th>usa_gross_income</th>\n",
       "      <th>worlwide_gross_income</th>\n",
       "      <th>metascore</th>\n",
       "      <th>reviews_from_users</th>\n",
       "      <th>reviews_from_critics</th>\n",
       "    </tr>\n",
       "  </thead>\n",
       "  <tbody>\n",
       "    <tr>\n",
       "      <th>0</th>\n",
       "      <td>Miss Jerry</td>\n",
       "      <td>1894</td>\n",
       "      <td>1894-10-09</td>\n",
       "      <td>Romance</td>\n",
       "      <td>45</td>\n",
       "      <td>USA</td>\n",
       "      <td>None</td>\n",
       "      <td>NaN</td>\n",
       "      <td>NaN</td>\n",
       "      <td>NaN</td>\n",
       "      <td>NaN</td>\n",
       "      <td>1.0</td>\n",
       "      <td>2.0</td>\n",
       "    </tr>\n",
       "    <tr>\n",
       "      <th>1</th>\n",
       "      <td>The Story of the Kelly Gang</td>\n",
       "      <td>1906</td>\n",
       "      <td>1906-12-26</td>\n",
       "      <td>Biography, Crime, Drama</td>\n",
       "      <td>70</td>\n",
       "      <td>Australia</td>\n",
       "      <td>None</td>\n",
       "      <td>$ 2250</td>\n",
       "      <td>NaN</td>\n",
       "      <td>NaN</td>\n",
       "      <td>NaN</td>\n",
       "      <td>7.0</td>\n",
       "      <td>7.0</td>\n",
       "    </tr>\n",
       "    <tr>\n",
       "      <th>2</th>\n",
       "      <td>Den sorte drøm</td>\n",
       "      <td>1911</td>\n",
       "      <td>1911-08-19</td>\n",
       "      <td>Drama</td>\n",
       "      <td>53</td>\n",
       "      <td>Germany, Denmark</td>\n",
       "      <td>NaN</td>\n",
       "      <td>NaN</td>\n",
       "      <td>NaN</td>\n",
       "      <td>NaN</td>\n",
       "      <td>NaN</td>\n",
       "      <td>5.0</td>\n",
       "      <td>2.0</td>\n",
       "    </tr>\n",
       "    <tr>\n",
       "      <th>3</th>\n",
       "      <td>Cleopatra</td>\n",
       "      <td>1912</td>\n",
       "      <td>1912-11-13</td>\n",
       "      <td>Drama, History</td>\n",
       "      <td>100</td>\n",
       "      <td>USA</td>\n",
       "      <td>English</td>\n",
       "      <td>$ 45000</td>\n",
       "      <td>NaN</td>\n",
       "      <td>NaN</td>\n",
       "      <td>NaN</td>\n",
       "      <td>25.0</td>\n",
       "      <td>3.0</td>\n",
       "    </tr>\n",
       "    <tr>\n",
       "      <th>4</th>\n",
       "      <td>L'Inferno</td>\n",
       "      <td>1911</td>\n",
       "      <td>1911-03-06</td>\n",
       "      <td>Adventure, Drama, Fantasy</td>\n",
       "      <td>68</td>\n",
       "      <td>Italy</td>\n",
       "      <td>Italian</td>\n",
       "      <td>NaN</td>\n",
       "      <td>NaN</td>\n",
       "      <td>NaN</td>\n",
       "      <td>NaN</td>\n",
       "      <td>31.0</td>\n",
       "      <td>14.0</td>\n",
       "    </tr>\n",
       "  </tbody>\n",
       "</table>\n",
       "</div>"
      ],
      "text/plain": [
       "                         title  year date_published  \\\n",
       "0                   Miss Jerry  1894     1894-10-09   \n",
       "1  The Story of the Kelly Gang  1906     1906-12-26   \n",
       "2               Den sorte drøm  1911     1911-08-19   \n",
       "3                    Cleopatra  1912     1912-11-13   \n",
       "4                    L'Inferno  1911     1911-03-06   \n",
       "\n",
       "                       genre  duration           country language   budget  \\\n",
       "0                    Romance        45               USA     None      NaN   \n",
       "1    Biography, Crime, Drama        70         Australia     None   $ 2250   \n",
       "2                      Drama        53  Germany, Denmark      NaN      NaN   \n",
       "3             Drama, History       100               USA  English  $ 45000   \n",
       "4  Adventure, Drama, Fantasy        68             Italy  Italian      NaN   \n",
       "\n",
       "  usa_gross_income worlwide_gross_income metascore reviews_from_users  \\\n",
       "0              NaN                   NaN       NaN                1.0   \n",
       "1              NaN                   NaN       NaN                7.0   \n",
       "2              NaN                   NaN       NaN                5.0   \n",
       "3              NaN                   NaN       NaN               25.0   \n",
       "4              NaN                   NaN       NaN               31.0   \n",
       "\n",
       "  reviews_from_critics  \n",
       "0                  2.0  \n",
       "1                  7.0  \n",
       "2                  2.0  \n",
       "3                  3.0  \n",
       "4                 14.0  "
      ]
     },
     "execution_count": 5,
     "metadata": {},
     "output_type": "execute_result"
    }
   ],
   "source": [
    "# replace None values with Nan\n",
    "imdb_df = imdb_df.fillna(value=np.nan)\n",
    "imdb_df.head()"
   ]
  },
  {
   "cell_type": "code",
   "execution_count": 6,
   "id": "6c1944f5",
   "metadata": {},
   "outputs": [],
   "source": [
    "# fill null duration values with the mean duration\n",
    "duration = imdb_df[~imdb_df['duration'].isna()]\n",
    "imdb_df['duration'] = imdb_df['duration'].fillna(duration['duration'].mean()) "
   ]
  },
  {
   "cell_type": "code",
   "execution_count": 7,
   "id": "17c857cb",
   "metadata": {},
   "outputs": [
    {
     "data": {
      "text/html": [
       "<div>\n",
       "<style scoped>\n",
       "    .dataframe tbody tr th:only-of-type {\n",
       "        vertical-align: middle;\n",
       "    }\n",
       "\n",
       "    .dataframe tbody tr th {\n",
       "        vertical-align: top;\n",
       "    }\n",
       "\n",
       "    .dataframe thead th {\n",
       "        text-align: right;\n",
       "    }\n",
       "</style>\n",
       "<table border=\"1\" class=\"dataframe\">\n",
       "  <thead>\n",
       "    <tr style=\"text-align: right;\">\n",
       "      <th></th>\n",
       "      <th>title</th>\n",
       "      <th>year</th>\n",
       "      <th>date_published</th>\n",
       "      <th>genre</th>\n",
       "      <th>duration</th>\n",
       "      <th>country</th>\n",
       "      <th>language</th>\n",
       "      <th>budget</th>\n",
       "      <th>usa_gross_income</th>\n",
       "      <th>worlwide_gross_income</th>\n",
       "      <th>metascore</th>\n",
       "      <th>reviews_from_users</th>\n",
       "      <th>reviews_from_critics</th>\n",
       "    </tr>\n",
       "  </thead>\n",
       "  <tbody>\n",
       "    <tr>\n",
       "      <th>506</th>\n",
       "      <td>Metropolis</td>\n",
       "      <td>1927</td>\n",
       "      <td>1928-10-01</td>\n",
       "      <td>Drama, Sci-Fi</td>\n",
       "      <td>153</td>\n",
       "      <td>Germany</td>\n",
       "      <td>German</td>\n",
       "      <td>DEM 6000000</td>\n",
       "      <td>$ 1236166</td>\n",
       "      <td>$ 1349711</td>\n",
       "      <td>98.0</td>\n",
       "      <td>495.0</td>\n",
       "      <td>208.0</td>\n",
       "    </tr>\n",
       "    <tr>\n",
       "      <th>1048</th>\n",
       "      <td>Luci della città</td>\n",
       "      <td>1931</td>\n",
       "      <td>1931-04-02</td>\n",
       "      <td>Comedy, Drama, Romance</td>\n",
       "      <td>87</td>\n",
       "      <td>USA</td>\n",
       "      <td>English</td>\n",
       "      <td>$ 1500000</td>\n",
       "      <td>$ 19181</td>\n",
       "      <td>$ 46008</td>\n",
       "      <td>99.0</td>\n",
       "      <td>295.0</td>\n",
       "      <td>122.0</td>\n",
       "    </tr>\n",
       "    <tr>\n",
       "      <th>2454</th>\n",
       "      <td>Tempi moderni</td>\n",
       "      <td>1936</td>\n",
       "      <td>1937-03-12</td>\n",
       "      <td>Comedy, Drama, Family</td>\n",
       "      <td>87</td>\n",
       "      <td>USA</td>\n",
       "      <td>English</td>\n",
       "      <td>$ 1500000</td>\n",
       "      <td>$ 163577</td>\n",
       "      <td>$ 457688</td>\n",
       "      <td>96.0</td>\n",
       "      <td>307.0</td>\n",
       "      <td>115.0</td>\n",
       "    </tr>\n",
       "    <tr>\n",
       "      <th>2795</th>\n",
       "      <td>Il bandito della Casbah</td>\n",
       "      <td>1937</td>\n",
       "      <td>1937-10-22</td>\n",
       "      <td>Crime, Drama, Romance</td>\n",
       "      <td>94</td>\n",
       "      <td>France</td>\n",
       "      <td>French, Arabic</td>\n",
       "      <td>$ 60000</td>\n",
       "      <td>$ 155895</td>\n",
       "      <td>$ 155895</td>\n",
       "      <td>98.0</td>\n",
       "      <td>46.0</td>\n",
       "      <td>55.0</td>\n",
       "    </tr>\n",
       "    <tr>\n",
       "      <th>2827</th>\n",
       "      <td>Biancaneve e i sette nani</td>\n",
       "      <td>1937</td>\n",
       "      <td>1938-11-30</td>\n",
       "      <td>Animation, Family, Fantasy</td>\n",
       "      <td>83</td>\n",
       "      <td>USA</td>\n",
       "      <td>English</td>\n",
       "      <td>$ 1499000</td>\n",
       "      <td>$ 184925486</td>\n",
       "      <td>$ 184925486</td>\n",
       "      <td>95.0</td>\n",
       "      <td>260.0</td>\n",
       "      <td>173.0</td>\n",
       "    </tr>\n",
       "  </tbody>\n",
       "</table>\n",
       "</div>"
      ],
      "text/plain": [
       "                          title  year date_published  \\\n",
       "506                  Metropolis  1927     1928-10-01   \n",
       "1048           Luci della città  1931     1931-04-02   \n",
       "2454              Tempi moderni  1936     1937-03-12   \n",
       "2795    Il bandito della Casbah  1937     1937-10-22   \n",
       "2827  Biancaneve e i sette nani  1937     1938-11-30   \n",
       "\n",
       "                           genre  duration  country        language  \\\n",
       "506                Drama, Sci-Fi       153  Germany          German   \n",
       "1048      Comedy, Drama, Romance        87      USA         English   \n",
       "2454       Comedy, Drama, Family        87      USA         English   \n",
       "2795       Crime, Drama, Romance        94   France  French, Arabic   \n",
       "2827  Animation, Family, Fantasy        83      USA         English   \n",
       "\n",
       "           budget usa_gross_income worlwide_gross_income metascore  \\\n",
       "506   DEM 6000000        $ 1236166             $ 1349711      98.0   \n",
       "1048    $ 1500000          $ 19181               $ 46008      99.0   \n",
       "2454    $ 1500000         $ 163577              $ 457688      96.0   \n",
       "2795      $ 60000         $ 155895              $ 155895      98.0   \n",
       "2827    $ 1499000      $ 184925486           $ 184925486      95.0   \n",
       "\n",
       "     reviews_from_users reviews_from_critics  \n",
       "506               495.0                208.0  \n",
       "1048              295.0                122.0  \n",
       "2454              307.0                115.0  \n",
       "2795               46.0                 55.0  \n",
       "2827              260.0                173.0  "
      ]
     },
     "execution_count": 7,
     "metadata": {},
     "output_type": "execute_result"
    }
   ],
   "source": [
    "# drop nan values\n",
    "imdb_df = imdb_df.dropna()\n",
    "imdb_df.head()"
   ]
  },
  {
   "cell_type": "code",
   "execution_count": 8,
   "id": "1afd3df0",
   "metadata": {},
   "outputs": [
    {
     "data": {
      "text/plain": [
       "title                    object\n",
       "year                     object\n",
       "date_published           object\n",
       "genre                    object\n",
       "duration                  int64\n",
       "country                  object\n",
       "language                 object\n",
       "budget                   object\n",
       "usa_gross_income         object\n",
       "worlwide_gross_income    object\n",
       "metascore                object\n",
       "reviews_from_users       object\n",
       "reviews_from_critics     object\n",
       "dtype: object"
      ]
     },
     "execution_count": 8,
     "metadata": {},
     "output_type": "execute_result"
    }
   ],
   "source": [
    "imdb_df.dtypes"
   ]
  },
  {
   "cell_type": "code",
   "execution_count": 9,
   "id": "fdd10e5f",
   "metadata": {},
   "outputs": [],
   "source": [
    "imdb_df = imdb_df[imdb_df['year'] > 1980]"
   ]
  },
  {
   "cell_type": "code",
   "execution_count": 10,
   "id": "712e8f1f",
   "metadata": {},
   "outputs": [
    {
     "data": {
      "text/html": [
       "<div>\n",
       "<style scoped>\n",
       "    .dataframe tbody tr th:only-of-type {\n",
       "        vertical-align: middle;\n",
       "    }\n",
       "\n",
       "    .dataframe tbody tr th {\n",
       "        vertical-align: top;\n",
       "    }\n",
       "\n",
       "    .dataframe thead th {\n",
       "        text-align: right;\n",
       "    }\n",
       "</style>\n",
       "<table border=\"1\" class=\"dataframe\">\n",
       "  <thead>\n",
       "    <tr style=\"text-align: right;\">\n",
       "      <th></th>\n",
       "      <th>title</th>\n",
       "      <th>year</th>\n",
       "      <th>date_published</th>\n",
       "      <th>genre</th>\n",
       "      <th>duration</th>\n",
       "      <th>country</th>\n",
       "      <th>language</th>\n",
       "      <th>budget</th>\n",
       "      <th>usa_gross_income</th>\n",
       "      <th>worlwide_gross_income</th>\n",
       "      <th>metascore</th>\n",
       "      <th>reviews_from_users</th>\n",
       "      <th>reviews_from_critics</th>\n",
       "    </tr>\n",
       "  </thead>\n",
       "  <tbody>\n",
       "    <tr>\n",
       "      <th>4334</th>\n",
       "      <td>Kate &amp; Leopold</td>\n",
       "      <td>2001</td>\n",
       "      <td>2002-03-01</td>\n",
       "      <td>Comedy, Fantasy, Romance</td>\n",
       "      <td>118</td>\n",
       "      <td>USA</td>\n",
       "      <td>English, French</td>\n",
       "      <td>$ 48000000</td>\n",
       "      <td>$ 47121859</td>\n",
       "      <td>$ 76019048</td>\n",
       "      <td>44.0</td>\n",
       "      <td>341.0</td>\n",
       "      <td>115.0</td>\n",
       "    </tr>\n",
       "    <tr>\n",
       "      <th>19630</th>\n",
       "      <td>Scanners</td>\n",
       "      <td>1981</td>\n",
       "      <td>1982-05-01</td>\n",
       "      <td>Horror, Sci-Fi, Thriller</td>\n",
       "      <td>103</td>\n",
       "      <td>Canada</td>\n",
       "      <td>English</td>\n",
       "      <td>CAD 4100000</td>\n",
       "      <td>$ 14225876</td>\n",
       "      <td>$ 14225876</td>\n",
       "      <td>60.0</td>\n",
       "      <td>196.0</td>\n",
       "      <td>132.0</td>\n",
       "    </tr>\n",
       "    <tr>\n",
       "      <th>19691</th>\n",
       "      <td>I banditi del tempo</td>\n",
       "      <td>1981</td>\n",
       "      <td>1983-01-06</td>\n",
       "      <td>Adventure, Comedy, Fantasy</td>\n",
       "      <td>116</td>\n",
       "      <td>UK</td>\n",
       "      <td>English</td>\n",
       "      <td>$ 5000000</td>\n",
       "      <td>$ 42365581</td>\n",
       "      <td>$ 42368025</td>\n",
       "      <td>79.0</td>\n",
       "      <td>202.0</td>\n",
       "      <td>150.0</td>\n",
       "    </tr>\n",
       "    <tr>\n",
       "      <th>19759</th>\n",
       "      <td>Diritto di cronaca</td>\n",
       "      <td>1981</td>\n",
       "      <td>1982-03-05</td>\n",
       "      <td>Drama, Romance, Thriller</td>\n",
       "      <td>116</td>\n",
       "      <td>USA</td>\n",
       "      <td>English, Spanish</td>\n",
       "      <td>$ 12000000</td>\n",
       "      <td>$ 40716963</td>\n",
       "      <td>$ 40716963</td>\n",
       "      <td>64.0</td>\n",
       "      <td>115.0</td>\n",
       "      <td>27.0</td>\n",
       "    </tr>\n",
       "    <tr>\n",
       "      <th>19769</th>\n",
       "      <td>Un lupo mannaro americano a Londra</td>\n",
       "      <td>1981</td>\n",
       "      <td>1981-12-19</td>\n",
       "      <td>Comedy, Horror</td>\n",
       "      <td>97</td>\n",
       "      <td>UK, USA</td>\n",
       "      <td>English</td>\n",
       "      <td>$ 10000000</td>\n",
       "      <td>$ 30565292</td>\n",
       "      <td>$ 30565292</td>\n",
       "      <td>60.0</td>\n",
       "      <td>400.0</td>\n",
       "      <td>248.0</td>\n",
       "    </tr>\n",
       "  </tbody>\n",
       "</table>\n",
       "</div>"
      ],
      "text/plain": [
       "                                    title  year date_published  \\\n",
       "4334                       Kate & Leopold  2001     2002-03-01   \n",
       "19630                            Scanners  1981     1982-05-01   \n",
       "19691                 I banditi del tempo  1981     1983-01-06   \n",
       "19759                  Diritto di cronaca  1981     1982-03-05   \n",
       "19769  Un lupo mannaro americano a Londra  1981     1981-12-19   \n",
       "\n",
       "                            genre  duration  country          language  \\\n",
       "4334     Comedy, Fantasy, Romance       118      USA   English, French   \n",
       "19630    Horror, Sci-Fi, Thriller       103   Canada           English   \n",
       "19691  Adventure, Comedy, Fantasy       116       UK           English   \n",
       "19759    Drama, Romance, Thriller       116      USA  English, Spanish   \n",
       "19769              Comedy, Horror        97  UK, USA           English   \n",
       "\n",
       "            budget usa_gross_income worlwide_gross_income metascore  \\\n",
       "4334    $ 48000000       $ 47121859            $ 76019048      44.0   \n",
       "19630  CAD 4100000       $ 14225876            $ 14225876      60.0   \n",
       "19691    $ 5000000       $ 42365581            $ 42368025      79.0   \n",
       "19759   $ 12000000       $ 40716963            $ 40716963      64.0   \n",
       "19769   $ 10000000       $ 30565292            $ 30565292      60.0   \n",
       "\n",
       "      reviews_from_users reviews_from_critics  \n",
       "4334               341.0                115.0  \n",
       "19630              196.0                132.0  \n",
       "19691              202.0                150.0  \n",
       "19759              115.0                 27.0  \n",
       "19769              400.0                248.0  "
      ]
     },
     "execution_count": 10,
     "metadata": {},
     "output_type": "execute_result"
    }
   ],
   "source": [
    "imdb_df.head()"
   ]
  },
  {
   "cell_type": "code",
   "execution_count": 11,
   "id": "10133f24",
   "metadata": {},
   "outputs": [
    {
     "data": {
      "text/plain": [
       "title                    0\n",
       "year                     0\n",
       "date_published           0\n",
       "genre                    0\n",
       "duration                 0\n",
       "country                  0\n",
       "language                 0\n",
       "budget                   0\n",
       "usa_gross_income         0\n",
       "worlwide_gross_income    0\n",
       "metascore                0\n",
       "reviews_from_users       0\n",
       "reviews_from_critics     0\n",
       "dtype: int64"
      ]
     },
     "execution_count": 11,
     "metadata": {},
     "output_type": "execute_result"
    }
   ],
   "source": [
    "# check null values\n",
    "imdb_df.isna().sum()"
   ]
  },
  {
   "cell_type": "code",
   "execution_count": 12,
   "id": "442e476e",
   "metadata": {},
   "outputs": [],
   "source": [
    "# keep movies only made in USA\n",
    "imdb_df = imdb_df.loc[imdb_df['country']=='USA']"
   ]
  },
  {
   "cell_type": "code",
   "execution_count": 13,
   "id": "59047c48",
   "metadata": {},
   "outputs": [],
   "source": [
    "imdb_df['budget'] = pd.to_numeric(imdb_df['budget'].replace('[\\DEM]','',regex=True))"
   ]
  },
  {
   "cell_type": "code",
   "execution_count": 14,
   "id": "d62edc99",
   "metadata": {},
   "outputs": [],
   "source": [
    "imdb_df['budget'] = pd.to_numeric(imdb_df['budget'].replace('[\\CAD]','',regex=True))"
   ]
  },
  {
   "cell_type": "code",
   "execution_count": 15,
   "id": "01f71eb4",
   "metadata": {},
   "outputs": [
    {
     "data": {
      "text/html": [
       "<div>\n",
       "<style scoped>\n",
       "    .dataframe tbody tr th:only-of-type {\n",
       "        vertical-align: middle;\n",
       "    }\n",
       "\n",
       "    .dataframe tbody tr th {\n",
       "        vertical-align: top;\n",
       "    }\n",
       "\n",
       "    .dataframe thead th {\n",
       "        text-align: right;\n",
       "    }\n",
       "</style>\n",
       "<table border=\"1\" class=\"dataframe\">\n",
       "  <thead>\n",
       "    <tr style=\"text-align: right;\">\n",
       "      <th></th>\n",
       "      <th>title</th>\n",
       "      <th>year</th>\n",
       "      <th>date_published</th>\n",
       "      <th>genre</th>\n",
       "      <th>duration</th>\n",
       "      <th>country</th>\n",
       "      <th>language</th>\n",
       "      <th>budget</th>\n",
       "      <th>usa_gross_income</th>\n",
       "      <th>total_gross</th>\n",
       "      <th>metascore</th>\n",
       "      <th>reviews_from_users</th>\n",
       "      <th>reviews_from_critics</th>\n",
       "    </tr>\n",
       "  </thead>\n",
       "  <tbody>\n",
       "    <tr>\n",
       "      <th>4334</th>\n",
       "      <td>Kate &amp; Leopold</td>\n",
       "      <td>2001</td>\n",
       "      <td>2002-03-01</td>\n",
       "      <td>Comedy, Fantasy, Romance</td>\n",
       "      <td>118</td>\n",
       "      <td>USA</td>\n",
       "      <td>English, French</td>\n",
       "      <td>48000000</td>\n",
       "      <td>$ 47121859</td>\n",
       "      <td>$ 76019048</td>\n",
       "      <td>44.0</td>\n",
       "      <td>341.0</td>\n",
       "      <td>115.0</td>\n",
       "    </tr>\n",
       "    <tr>\n",
       "      <th>19759</th>\n",
       "      <td>Diritto di cronaca</td>\n",
       "      <td>1981</td>\n",
       "      <td>1982-03-05</td>\n",
       "      <td>Drama, Romance, Thriller</td>\n",
       "      <td>116</td>\n",
       "      <td>USA</td>\n",
       "      <td>English, Spanish</td>\n",
       "      <td>12000000</td>\n",
       "      <td>$ 40716963</td>\n",
       "      <td>$ 40716963</td>\n",
       "      <td>64.0</td>\n",
       "      <td>115.0</td>\n",
       "      <td>27.0</td>\n",
       "    </tr>\n",
       "    <tr>\n",
       "      <th>19774</th>\n",
       "      <td>Arturo</td>\n",
       "      <td>1981</td>\n",
       "      <td>1982-02-04</td>\n",
       "      <td>Comedy, Romance</td>\n",
       "      <td>97</td>\n",
       "      <td>USA</td>\n",
       "      <td>English</td>\n",
       "      <td>7000000</td>\n",
       "      <td>$ 95461682</td>\n",
       "      <td>$ 95461682</td>\n",
       "      <td>69.0</td>\n",
       "      <td>132.0</td>\n",
       "      <td>44.0</td>\n",
       "    </tr>\n",
       "    <tr>\n",
       "      <th>19790</th>\n",
       "      <td>Blow Out</td>\n",
       "      <td>1981</td>\n",
       "      <td>1982-04-14</td>\n",
       "      <td>Crime, Drama, Mystery</td>\n",
       "      <td>108</td>\n",
       "      <td>USA</td>\n",
       "      <td>English</td>\n",
       "      <td>18000000</td>\n",
       "      <td>$ 12000000</td>\n",
       "      <td>$ 12000000</td>\n",
       "      <td>86.0</td>\n",
       "      <td>199.0</td>\n",
       "      <td>123.0</td>\n",
       "    </tr>\n",
       "    <tr>\n",
       "      <th>19804</th>\n",
       "      <td>Libertà poco vigilata</td>\n",
       "      <td>1981</td>\n",
       "      <td>1981-05-22</td>\n",
       "      <td>Comedy, Drama</td>\n",
       "      <td>94</td>\n",
       "      <td>USA</td>\n",
       "      <td>English</td>\n",
       "      <td>11000000</td>\n",
       "      <td>$ 31261269</td>\n",
       "      <td>$ 31261269</td>\n",
       "      <td>55.0</td>\n",
       "      <td>16.0</td>\n",
       "      <td>5.0</td>\n",
       "    </tr>\n",
       "  </tbody>\n",
       "</table>\n",
       "</div>"
      ],
      "text/plain": [
       "                       title  year date_published                     genre  \\\n",
       "4334          Kate & Leopold  2001     2002-03-01  Comedy, Fantasy, Romance   \n",
       "19759     Diritto di cronaca  1981     1982-03-05  Drama, Romance, Thriller   \n",
       "19774                 Arturo  1981     1982-02-04           Comedy, Romance   \n",
       "19790               Blow Out  1981     1982-04-14     Crime, Drama, Mystery   \n",
       "19804  Libertà poco vigilata  1981     1981-05-22             Comedy, Drama   \n",
       "\n",
       "       duration country          language    budget usa_gross_income  \\\n",
       "4334        118     USA   English, French  48000000       $ 47121859   \n",
       "19759       116     USA  English, Spanish  12000000       $ 40716963   \n",
       "19774        97     USA           English   7000000       $ 95461682   \n",
       "19790       108     USA           English  18000000       $ 12000000   \n",
       "19804        94     USA           English  11000000       $ 31261269   \n",
       "\n",
       "      total_gross metascore reviews_from_users reviews_from_critics  \n",
       "4334   $ 76019048      44.0              341.0                115.0  \n",
       "19759  $ 40716963      64.0              115.0                 27.0  \n",
       "19774  $ 95461682      69.0              132.0                 44.0  \n",
       "19790  $ 12000000      86.0              199.0                123.0  \n",
       "19804  $ 31261269      55.0               16.0                  5.0  "
      ]
     },
     "execution_count": 15,
     "metadata": {},
     "output_type": "execute_result"
    }
   ],
   "source": [
    "# rename worlwide_gross_income to total_gross\n",
    "imdb_df.rename(columns={\"worlwide_gross_income\":\"total_gross\"}, inplace=True)\n",
    "imdb_df.head()"
   ]
  },
  {
   "cell_type": "code",
   "execution_count": 16,
   "id": "b18a3f22",
   "metadata": {},
   "outputs": [],
   "source": [
    "imdb_df['total_gross'] = pd.to_numeric(imdb_df['total_gross'].replace('[\\$]','',regex=True))"
   ]
  },
  {
   "cell_type": "code",
   "execution_count": 17,
   "id": "cb0fe746",
   "metadata": {},
   "outputs": [],
   "source": [
    "# extract month from date_published\n",
    "imdb_df['month'] = pd.DatetimeIndex(imdb_df['date_published']).month"
   ]
  },
  {
   "cell_type": "code",
   "execution_count": 18,
   "id": "a5a7070f",
   "metadata": {},
   "outputs": [
    {
     "data": {
      "text/html": [
       "<div>\n",
       "<style scoped>\n",
       "    .dataframe tbody tr th:only-of-type {\n",
       "        vertical-align: middle;\n",
       "    }\n",
       "\n",
       "    .dataframe tbody tr th {\n",
       "        vertical-align: top;\n",
       "    }\n",
       "\n",
       "    .dataframe thead th {\n",
       "        text-align: right;\n",
       "    }\n",
       "</style>\n",
       "<table border=\"1\" class=\"dataframe\">\n",
       "  <thead>\n",
       "    <tr style=\"text-align: right;\">\n",
       "      <th></th>\n",
       "      <th>title</th>\n",
       "      <th>year</th>\n",
       "      <th>date_published</th>\n",
       "      <th>genre</th>\n",
       "      <th>duration</th>\n",
       "      <th>country</th>\n",
       "      <th>language</th>\n",
       "      <th>budget</th>\n",
       "      <th>usa_gross_income</th>\n",
       "      <th>total_gross</th>\n",
       "      <th>metascore</th>\n",
       "      <th>reviews_from_users</th>\n",
       "      <th>reviews_from_critics</th>\n",
       "      <th>month</th>\n",
       "    </tr>\n",
       "  </thead>\n",
       "  <tbody>\n",
       "    <tr>\n",
       "      <th>4334</th>\n",
       "      <td>Kate &amp; Leopold</td>\n",
       "      <td>2001</td>\n",
       "      <td>2002-03-01</td>\n",
       "      <td>Comedy, Fantasy, Romance</td>\n",
       "      <td>118</td>\n",
       "      <td>USA</td>\n",
       "      <td>English, French</td>\n",
       "      <td>48000000</td>\n",
       "      <td>$ 47121859</td>\n",
       "      <td>76019048</td>\n",
       "      <td>44.0</td>\n",
       "      <td>341.0</td>\n",
       "      <td>115.0</td>\n",
       "      <td>3</td>\n",
       "    </tr>\n",
       "    <tr>\n",
       "      <th>19759</th>\n",
       "      <td>Diritto di cronaca</td>\n",
       "      <td>1981</td>\n",
       "      <td>1982-03-05</td>\n",
       "      <td>Drama, Romance, Thriller</td>\n",
       "      <td>116</td>\n",
       "      <td>USA</td>\n",
       "      <td>English, Spanish</td>\n",
       "      <td>12000000</td>\n",
       "      <td>$ 40716963</td>\n",
       "      <td>40716963</td>\n",
       "      <td>64.0</td>\n",
       "      <td>115.0</td>\n",
       "      <td>27.0</td>\n",
       "      <td>3</td>\n",
       "    </tr>\n",
       "    <tr>\n",
       "      <th>19774</th>\n",
       "      <td>Arturo</td>\n",
       "      <td>1981</td>\n",
       "      <td>1982-02-04</td>\n",
       "      <td>Comedy, Romance</td>\n",
       "      <td>97</td>\n",
       "      <td>USA</td>\n",
       "      <td>English</td>\n",
       "      <td>7000000</td>\n",
       "      <td>$ 95461682</td>\n",
       "      <td>95461682</td>\n",
       "      <td>69.0</td>\n",
       "      <td>132.0</td>\n",
       "      <td>44.0</td>\n",
       "      <td>2</td>\n",
       "    </tr>\n",
       "    <tr>\n",
       "      <th>19790</th>\n",
       "      <td>Blow Out</td>\n",
       "      <td>1981</td>\n",
       "      <td>1982-04-14</td>\n",
       "      <td>Crime, Drama, Mystery</td>\n",
       "      <td>108</td>\n",
       "      <td>USA</td>\n",
       "      <td>English</td>\n",
       "      <td>18000000</td>\n",
       "      <td>$ 12000000</td>\n",
       "      <td>12000000</td>\n",
       "      <td>86.0</td>\n",
       "      <td>199.0</td>\n",
       "      <td>123.0</td>\n",
       "      <td>4</td>\n",
       "    </tr>\n",
       "    <tr>\n",
       "      <th>19804</th>\n",
       "      <td>Libertà poco vigilata</td>\n",
       "      <td>1981</td>\n",
       "      <td>1981-05-22</td>\n",
       "      <td>Comedy, Drama</td>\n",
       "      <td>94</td>\n",
       "      <td>USA</td>\n",
       "      <td>English</td>\n",
       "      <td>11000000</td>\n",
       "      <td>$ 31261269</td>\n",
       "      <td>31261269</td>\n",
       "      <td>55.0</td>\n",
       "      <td>16.0</td>\n",
       "      <td>5.0</td>\n",
       "      <td>5</td>\n",
       "    </tr>\n",
       "  </tbody>\n",
       "</table>\n",
       "</div>"
      ],
      "text/plain": [
       "                       title  year date_published                     genre  \\\n",
       "4334          Kate & Leopold  2001     2002-03-01  Comedy, Fantasy, Romance   \n",
       "19759     Diritto di cronaca  1981     1982-03-05  Drama, Romance, Thriller   \n",
       "19774                 Arturo  1981     1982-02-04           Comedy, Romance   \n",
       "19790               Blow Out  1981     1982-04-14     Crime, Drama, Mystery   \n",
       "19804  Libertà poco vigilata  1981     1981-05-22             Comedy, Drama   \n",
       "\n",
       "       duration country          language    budget usa_gross_income  \\\n",
       "4334        118     USA   English, French  48000000       $ 47121859   \n",
       "19759       116     USA  English, Spanish  12000000       $ 40716963   \n",
       "19774        97     USA           English   7000000       $ 95461682   \n",
       "19790       108     USA           English  18000000       $ 12000000   \n",
       "19804        94     USA           English  11000000       $ 31261269   \n",
       "\n",
       "       total_gross metascore reviews_from_users reviews_from_critics  month  \n",
       "4334      76019048      44.0              341.0                115.0      3  \n",
       "19759     40716963      64.0              115.0                 27.0      3  \n",
       "19774     95461682      69.0              132.0                 44.0      2  \n",
       "19790     12000000      86.0              199.0                123.0      4  \n",
       "19804     31261269      55.0               16.0                  5.0      5  "
      ]
     },
     "execution_count": 18,
     "metadata": {},
     "output_type": "execute_result"
    }
   ],
   "source": [
    "imdb_df.head()"
   ]
  },
  {
   "cell_type": "code",
   "execution_count": 19,
   "id": "19bf114b",
   "metadata": {},
   "outputs": [
    {
     "data": {
      "text/html": [
       "<div>\n",
       "<style scoped>\n",
       "    .dataframe tbody tr th:only-of-type {\n",
       "        vertical-align: middle;\n",
       "    }\n",
       "\n",
       "    .dataframe tbody tr th {\n",
       "        vertical-align: top;\n",
       "    }\n",
       "\n",
       "    .dataframe thead th {\n",
       "        text-align: right;\n",
       "    }\n",
       "</style>\n",
       "<table border=\"1\" class=\"dataframe\">\n",
       "  <thead>\n",
       "    <tr style=\"text-align: right;\">\n",
       "      <th></th>\n",
       "      <th>title</th>\n",
       "      <th>year</th>\n",
       "      <th>genre</th>\n",
       "      <th>duration</th>\n",
       "      <th>country</th>\n",
       "      <th>language</th>\n",
       "      <th>budget</th>\n",
       "      <th>usa_gross_income</th>\n",
       "      <th>total_gross</th>\n",
       "      <th>metascore</th>\n",
       "      <th>reviews_from_users</th>\n",
       "      <th>reviews_from_critics</th>\n",
       "      <th>month</th>\n",
       "    </tr>\n",
       "  </thead>\n",
       "  <tbody>\n",
       "    <tr>\n",
       "      <th>4334</th>\n",
       "      <td>Kate &amp; Leopold</td>\n",
       "      <td>2001</td>\n",
       "      <td>Comedy, Fantasy, Romance</td>\n",
       "      <td>118</td>\n",
       "      <td>USA</td>\n",
       "      <td>English, French</td>\n",
       "      <td>48000000</td>\n",
       "      <td>$ 47121859</td>\n",
       "      <td>76019048</td>\n",
       "      <td>44.0</td>\n",
       "      <td>341.0</td>\n",
       "      <td>115.0</td>\n",
       "      <td>3</td>\n",
       "    </tr>\n",
       "    <tr>\n",
       "      <th>19759</th>\n",
       "      <td>Diritto di cronaca</td>\n",
       "      <td>1981</td>\n",
       "      <td>Drama, Romance, Thriller</td>\n",
       "      <td>116</td>\n",
       "      <td>USA</td>\n",
       "      <td>English, Spanish</td>\n",
       "      <td>12000000</td>\n",
       "      <td>$ 40716963</td>\n",
       "      <td>40716963</td>\n",
       "      <td>64.0</td>\n",
       "      <td>115.0</td>\n",
       "      <td>27.0</td>\n",
       "      <td>3</td>\n",
       "    </tr>\n",
       "    <tr>\n",
       "      <th>19774</th>\n",
       "      <td>Arturo</td>\n",
       "      <td>1981</td>\n",
       "      <td>Comedy, Romance</td>\n",
       "      <td>97</td>\n",
       "      <td>USA</td>\n",
       "      <td>English</td>\n",
       "      <td>7000000</td>\n",
       "      <td>$ 95461682</td>\n",
       "      <td>95461682</td>\n",
       "      <td>69.0</td>\n",
       "      <td>132.0</td>\n",
       "      <td>44.0</td>\n",
       "      <td>2</td>\n",
       "    </tr>\n",
       "    <tr>\n",
       "      <th>19790</th>\n",
       "      <td>Blow Out</td>\n",
       "      <td>1981</td>\n",
       "      <td>Crime, Drama, Mystery</td>\n",
       "      <td>108</td>\n",
       "      <td>USA</td>\n",
       "      <td>English</td>\n",
       "      <td>18000000</td>\n",
       "      <td>$ 12000000</td>\n",
       "      <td>12000000</td>\n",
       "      <td>86.0</td>\n",
       "      <td>199.0</td>\n",
       "      <td>123.0</td>\n",
       "      <td>4</td>\n",
       "    </tr>\n",
       "    <tr>\n",
       "      <th>19804</th>\n",
       "      <td>Libertà poco vigilata</td>\n",
       "      <td>1981</td>\n",
       "      <td>Comedy, Drama</td>\n",
       "      <td>94</td>\n",
       "      <td>USA</td>\n",
       "      <td>English</td>\n",
       "      <td>11000000</td>\n",
       "      <td>$ 31261269</td>\n",
       "      <td>31261269</td>\n",
       "      <td>55.0</td>\n",
       "      <td>16.0</td>\n",
       "      <td>5.0</td>\n",
       "      <td>5</td>\n",
       "    </tr>\n",
       "  </tbody>\n",
       "</table>\n",
       "</div>"
      ],
      "text/plain": [
       "                       title  year                     genre  duration  \\\n",
       "4334          Kate & Leopold  2001  Comedy, Fantasy, Romance       118   \n",
       "19759     Diritto di cronaca  1981  Drama, Romance, Thriller       116   \n",
       "19774                 Arturo  1981           Comedy, Romance        97   \n",
       "19790               Blow Out  1981     Crime, Drama, Mystery       108   \n",
       "19804  Libertà poco vigilata  1981             Comedy, Drama        94   \n",
       "\n",
       "      country          language    budget usa_gross_income  total_gross  \\\n",
       "4334      USA   English, French  48000000       $ 47121859     76019048   \n",
       "19759     USA  English, Spanish  12000000       $ 40716963     40716963   \n",
       "19774     USA           English   7000000       $ 95461682     95461682   \n",
       "19790     USA           English  18000000       $ 12000000     12000000   \n",
       "19804     USA           English  11000000       $ 31261269     31261269   \n",
       "\n",
       "      metascore reviews_from_users reviews_from_critics  month  \n",
       "4334       44.0              341.0                115.0      3  \n",
       "19759      64.0              115.0                 27.0      3  \n",
       "19774      69.0              132.0                 44.0      2  \n",
       "19790      86.0              199.0                123.0      4  \n",
       "19804      55.0               16.0                  5.0      5  "
      ]
     },
     "execution_count": 19,
     "metadata": {},
     "output_type": "execute_result"
    }
   ],
   "source": [
    "# drop date_published column\n",
    "imdb_df = imdb_df.drop(columns=['date_published'])\n",
    "imdb_df.head()"
   ]
  },
  {
   "cell_type": "code",
   "execution_count": 20,
   "id": "1b60cc3c",
   "metadata": {},
   "outputs": [
    {
     "data": {
      "text/html": [
       "<div>\n",
       "<style scoped>\n",
       "    .dataframe tbody tr th:only-of-type {\n",
       "        vertical-align: middle;\n",
       "    }\n",
       "\n",
       "    .dataframe tbody tr th {\n",
       "        vertical-align: top;\n",
       "    }\n",
       "\n",
       "    .dataframe thead th {\n",
       "        text-align: right;\n",
       "    }\n",
       "</style>\n",
       "<table border=\"1\" class=\"dataframe\">\n",
       "  <thead>\n",
       "    <tr style=\"text-align: right;\">\n",
       "      <th></th>\n",
       "      <th>title</th>\n",
       "      <th>year</th>\n",
       "      <th>genre</th>\n",
       "      <th>duration</th>\n",
       "      <th>country</th>\n",
       "      <th>language</th>\n",
       "      <th>budget</th>\n",
       "      <th>usa_gross_income</th>\n",
       "      <th>total_gross</th>\n",
       "      <th>metascore</th>\n",
       "      <th>reviews_from_users</th>\n",
       "      <th>reviews_from_critics</th>\n",
       "      <th>month</th>\n",
       "      <th>net_income</th>\n",
       "    </tr>\n",
       "  </thead>\n",
       "  <tbody>\n",
       "    <tr>\n",
       "      <th>4334</th>\n",
       "      <td>Kate &amp; Leopold</td>\n",
       "      <td>2001</td>\n",
       "      <td>Comedy, Fantasy, Romance</td>\n",
       "      <td>118</td>\n",
       "      <td>USA</td>\n",
       "      <td>English, French</td>\n",
       "      <td>48000000</td>\n",
       "      <td>$ 47121859</td>\n",
       "      <td>76019048</td>\n",
       "      <td>44.0</td>\n",
       "      <td>341.0</td>\n",
       "      <td>115.0</td>\n",
       "      <td>3</td>\n",
       "      <td>28019048</td>\n",
       "    </tr>\n",
       "    <tr>\n",
       "      <th>19759</th>\n",
       "      <td>Diritto di cronaca</td>\n",
       "      <td>1981</td>\n",
       "      <td>Drama, Romance, Thriller</td>\n",
       "      <td>116</td>\n",
       "      <td>USA</td>\n",
       "      <td>English, Spanish</td>\n",
       "      <td>12000000</td>\n",
       "      <td>$ 40716963</td>\n",
       "      <td>40716963</td>\n",
       "      <td>64.0</td>\n",
       "      <td>115.0</td>\n",
       "      <td>27.0</td>\n",
       "      <td>3</td>\n",
       "      <td>28716963</td>\n",
       "    </tr>\n",
       "    <tr>\n",
       "      <th>19774</th>\n",
       "      <td>Arturo</td>\n",
       "      <td>1981</td>\n",
       "      <td>Comedy, Romance</td>\n",
       "      <td>97</td>\n",
       "      <td>USA</td>\n",
       "      <td>English</td>\n",
       "      <td>7000000</td>\n",
       "      <td>$ 95461682</td>\n",
       "      <td>95461682</td>\n",
       "      <td>69.0</td>\n",
       "      <td>132.0</td>\n",
       "      <td>44.0</td>\n",
       "      <td>2</td>\n",
       "      <td>88461682</td>\n",
       "    </tr>\n",
       "    <tr>\n",
       "      <th>19790</th>\n",
       "      <td>Blow Out</td>\n",
       "      <td>1981</td>\n",
       "      <td>Crime, Drama, Mystery</td>\n",
       "      <td>108</td>\n",
       "      <td>USA</td>\n",
       "      <td>English</td>\n",
       "      <td>18000000</td>\n",
       "      <td>$ 12000000</td>\n",
       "      <td>12000000</td>\n",
       "      <td>86.0</td>\n",
       "      <td>199.0</td>\n",
       "      <td>123.0</td>\n",
       "      <td>4</td>\n",
       "      <td>-6000000</td>\n",
       "    </tr>\n",
       "    <tr>\n",
       "      <th>19804</th>\n",
       "      <td>Libertà poco vigilata</td>\n",
       "      <td>1981</td>\n",
       "      <td>Comedy, Drama</td>\n",
       "      <td>94</td>\n",
       "      <td>USA</td>\n",
       "      <td>English</td>\n",
       "      <td>11000000</td>\n",
       "      <td>$ 31261269</td>\n",
       "      <td>31261269</td>\n",
       "      <td>55.0</td>\n",
       "      <td>16.0</td>\n",
       "      <td>5.0</td>\n",
       "      <td>5</td>\n",
       "      <td>20261269</td>\n",
       "    </tr>\n",
       "  </tbody>\n",
       "</table>\n",
       "</div>"
      ],
      "text/plain": [
       "                       title  year                     genre  duration  \\\n",
       "4334          Kate & Leopold  2001  Comedy, Fantasy, Romance       118   \n",
       "19759     Diritto di cronaca  1981  Drama, Romance, Thriller       116   \n",
       "19774                 Arturo  1981           Comedy, Romance        97   \n",
       "19790               Blow Out  1981     Crime, Drama, Mystery       108   \n",
       "19804  Libertà poco vigilata  1981             Comedy, Drama        94   \n",
       "\n",
       "      country          language    budget usa_gross_income  total_gross  \\\n",
       "4334      USA   English, French  48000000       $ 47121859     76019048   \n",
       "19759     USA  English, Spanish  12000000       $ 40716963     40716963   \n",
       "19774     USA           English   7000000       $ 95461682     95461682   \n",
       "19790     USA           English  18000000       $ 12000000     12000000   \n",
       "19804     USA           English  11000000       $ 31261269     31261269   \n",
       "\n",
       "      metascore reviews_from_users reviews_from_critics  month  net_income  \n",
       "4334       44.0              341.0                115.0      3    28019048  \n",
       "19759      64.0              115.0                 27.0      3    28716963  \n",
       "19774      69.0              132.0                 44.0      2    88461682  \n",
       "19790      86.0              199.0                123.0      4    -6000000  \n",
       "19804      55.0               16.0                  5.0      5    20261269  "
      ]
     },
     "execution_count": 20,
     "metadata": {},
     "output_type": "execute_result"
    }
   ],
   "source": [
    "# create a net income column\n",
    "imdb_df['net_income'] = imdb_df['total_gross'] - imdb_df['budget']\n",
    "imdb_df.head()"
   ]
  },
  {
   "cell_type": "code",
   "execution_count": 21,
   "id": "c2053516",
   "metadata": {},
   "outputs": [
    {
     "data": {
      "text/html": [
       "<div>\n",
       "<style scoped>\n",
       "    .dataframe tbody tr th:only-of-type {\n",
       "        vertical-align: middle;\n",
       "    }\n",
       "\n",
       "    .dataframe tbody tr th {\n",
       "        vertical-align: top;\n",
       "    }\n",
       "\n",
       "    .dataframe thead th {\n",
       "        text-align: right;\n",
       "    }\n",
       "</style>\n",
       "<table border=\"1\" class=\"dataframe\">\n",
       "  <thead>\n",
       "    <tr style=\"text-align: right;\">\n",
       "      <th></th>\n",
       "      <th>title</th>\n",
       "      <th>year</th>\n",
       "      <th>genre</th>\n",
       "      <th>duration</th>\n",
       "      <th>country</th>\n",
       "      <th>language</th>\n",
       "      <th>budget</th>\n",
       "      <th>total_gross</th>\n",
       "      <th>metascore</th>\n",
       "      <th>reviews_from_users</th>\n",
       "      <th>reviews_from_critics</th>\n",
       "      <th>month</th>\n",
       "      <th>net_income</th>\n",
       "    </tr>\n",
       "  </thead>\n",
       "  <tbody>\n",
       "    <tr>\n",
       "      <th>4334</th>\n",
       "      <td>Kate &amp; Leopold</td>\n",
       "      <td>2001</td>\n",
       "      <td>Comedy, Fantasy, Romance</td>\n",
       "      <td>118</td>\n",
       "      <td>USA</td>\n",
       "      <td>English, French</td>\n",
       "      <td>48000000</td>\n",
       "      <td>76019048</td>\n",
       "      <td>44.0</td>\n",
       "      <td>341.0</td>\n",
       "      <td>115.0</td>\n",
       "      <td>3</td>\n",
       "      <td>28019048</td>\n",
       "    </tr>\n",
       "    <tr>\n",
       "      <th>19759</th>\n",
       "      <td>Diritto di cronaca</td>\n",
       "      <td>1981</td>\n",
       "      <td>Drama, Romance, Thriller</td>\n",
       "      <td>116</td>\n",
       "      <td>USA</td>\n",
       "      <td>English, Spanish</td>\n",
       "      <td>12000000</td>\n",
       "      <td>40716963</td>\n",
       "      <td>64.0</td>\n",
       "      <td>115.0</td>\n",
       "      <td>27.0</td>\n",
       "      <td>3</td>\n",
       "      <td>28716963</td>\n",
       "    </tr>\n",
       "    <tr>\n",
       "      <th>19774</th>\n",
       "      <td>Arturo</td>\n",
       "      <td>1981</td>\n",
       "      <td>Comedy, Romance</td>\n",
       "      <td>97</td>\n",
       "      <td>USA</td>\n",
       "      <td>English</td>\n",
       "      <td>7000000</td>\n",
       "      <td>95461682</td>\n",
       "      <td>69.0</td>\n",
       "      <td>132.0</td>\n",
       "      <td>44.0</td>\n",
       "      <td>2</td>\n",
       "      <td>88461682</td>\n",
       "    </tr>\n",
       "    <tr>\n",
       "      <th>19790</th>\n",
       "      <td>Blow Out</td>\n",
       "      <td>1981</td>\n",
       "      <td>Crime, Drama, Mystery</td>\n",
       "      <td>108</td>\n",
       "      <td>USA</td>\n",
       "      <td>English</td>\n",
       "      <td>18000000</td>\n",
       "      <td>12000000</td>\n",
       "      <td>86.0</td>\n",
       "      <td>199.0</td>\n",
       "      <td>123.0</td>\n",
       "      <td>4</td>\n",
       "      <td>-6000000</td>\n",
       "    </tr>\n",
       "    <tr>\n",
       "      <th>19804</th>\n",
       "      <td>Libertà poco vigilata</td>\n",
       "      <td>1981</td>\n",
       "      <td>Comedy, Drama</td>\n",
       "      <td>94</td>\n",
       "      <td>USA</td>\n",
       "      <td>English</td>\n",
       "      <td>11000000</td>\n",
       "      <td>31261269</td>\n",
       "      <td>55.0</td>\n",
       "      <td>16.0</td>\n",
       "      <td>5.0</td>\n",
       "      <td>5</td>\n",
       "      <td>20261269</td>\n",
       "    </tr>\n",
       "  </tbody>\n",
       "</table>\n",
       "</div>"
      ],
      "text/plain": [
       "                       title  year                     genre  duration  \\\n",
       "4334          Kate & Leopold  2001  Comedy, Fantasy, Romance       118   \n",
       "19759     Diritto di cronaca  1981  Drama, Romance, Thriller       116   \n",
       "19774                 Arturo  1981           Comedy, Romance        97   \n",
       "19790               Blow Out  1981     Crime, Drama, Mystery       108   \n",
       "19804  Libertà poco vigilata  1981             Comedy, Drama        94   \n",
       "\n",
       "      country          language    budget  total_gross metascore  \\\n",
       "4334      USA   English, French  48000000     76019048      44.0   \n",
       "19759     USA  English, Spanish  12000000     40716963      64.0   \n",
       "19774     USA           English   7000000     95461682      69.0   \n",
       "19790     USA           English  18000000     12000000      86.0   \n",
       "19804     USA           English  11000000     31261269      55.0   \n",
       "\n",
       "      reviews_from_users reviews_from_critics  month  net_income  \n",
       "4334               341.0                115.0      3    28019048  \n",
       "19759              115.0                 27.0      3    28716963  \n",
       "19774              132.0                 44.0      2    88461682  \n",
       "19790              199.0                123.0      4    -6000000  \n",
       "19804               16.0                  5.0      5    20261269  "
      ]
     },
     "execution_count": 21,
     "metadata": {},
     "output_type": "execute_result"
    }
   ],
   "source": [
    "imdb_df = imdb_df.drop(columns=['usa_gross_income'])\n",
    "imdb_df.head()"
   ]
  },
  {
   "cell_type": "code",
   "execution_count": 22,
   "id": "70c2bebe",
   "metadata": {},
   "outputs": [],
   "source": [
    "# rename reviews from critics\n",
    "imdb_df.rename(columns={\"reviews_from_critics\":\"critic_reviews\"}, inplace=True)"
   ]
  },
  {
   "cell_type": "code",
   "execution_count": 23,
   "id": "36ac1c5f",
   "metadata": {},
   "outputs": [
    {
     "data": {
      "text/html": [
       "<div>\n",
       "<style scoped>\n",
       "    .dataframe tbody tr th:only-of-type {\n",
       "        vertical-align: middle;\n",
       "    }\n",
       "\n",
       "    .dataframe tbody tr th {\n",
       "        vertical-align: top;\n",
       "    }\n",
       "\n",
       "    .dataframe thead th {\n",
       "        text-align: right;\n",
       "    }\n",
       "</style>\n",
       "<table border=\"1\" class=\"dataframe\">\n",
       "  <thead>\n",
       "    <tr style=\"text-align: right;\">\n",
       "      <th></th>\n",
       "      <th>title</th>\n",
       "      <th>year</th>\n",
       "      <th>genre</th>\n",
       "      <th>duration</th>\n",
       "      <th>country</th>\n",
       "      <th>language</th>\n",
       "      <th>budget</th>\n",
       "      <th>total_gross</th>\n",
       "      <th>metascore</th>\n",
       "      <th>user_reviews</th>\n",
       "      <th>critic_reviews</th>\n",
       "      <th>month</th>\n",
       "      <th>net_income</th>\n",
       "    </tr>\n",
       "  </thead>\n",
       "  <tbody>\n",
       "    <tr>\n",
       "      <th>4334</th>\n",
       "      <td>Kate &amp; Leopold</td>\n",
       "      <td>2001</td>\n",
       "      <td>Comedy, Fantasy, Romance</td>\n",
       "      <td>118</td>\n",
       "      <td>USA</td>\n",
       "      <td>English, French</td>\n",
       "      <td>48000000</td>\n",
       "      <td>76019048</td>\n",
       "      <td>44.0</td>\n",
       "      <td>341.0</td>\n",
       "      <td>115.0</td>\n",
       "      <td>3</td>\n",
       "      <td>28019048</td>\n",
       "    </tr>\n",
       "    <tr>\n",
       "      <th>19759</th>\n",
       "      <td>Diritto di cronaca</td>\n",
       "      <td>1981</td>\n",
       "      <td>Drama, Romance, Thriller</td>\n",
       "      <td>116</td>\n",
       "      <td>USA</td>\n",
       "      <td>English, Spanish</td>\n",
       "      <td>12000000</td>\n",
       "      <td>40716963</td>\n",
       "      <td>64.0</td>\n",
       "      <td>115.0</td>\n",
       "      <td>27.0</td>\n",
       "      <td>3</td>\n",
       "      <td>28716963</td>\n",
       "    </tr>\n",
       "    <tr>\n",
       "      <th>19774</th>\n",
       "      <td>Arturo</td>\n",
       "      <td>1981</td>\n",
       "      <td>Comedy, Romance</td>\n",
       "      <td>97</td>\n",
       "      <td>USA</td>\n",
       "      <td>English</td>\n",
       "      <td>7000000</td>\n",
       "      <td>95461682</td>\n",
       "      <td>69.0</td>\n",
       "      <td>132.0</td>\n",
       "      <td>44.0</td>\n",
       "      <td>2</td>\n",
       "      <td>88461682</td>\n",
       "    </tr>\n",
       "    <tr>\n",
       "      <th>19790</th>\n",
       "      <td>Blow Out</td>\n",
       "      <td>1981</td>\n",
       "      <td>Crime, Drama, Mystery</td>\n",
       "      <td>108</td>\n",
       "      <td>USA</td>\n",
       "      <td>English</td>\n",
       "      <td>18000000</td>\n",
       "      <td>12000000</td>\n",
       "      <td>86.0</td>\n",
       "      <td>199.0</td>\n",
       "      <td>123.0</td>\n",
       "      <td>4</td>\n",
       "      <td>-6000000</td>\n",
       "    </tr>\n",
       "    <tr>\n",
       "      <th>19804</th>\n",
       "      <td>Libertà poco vigilata</td>\n",
       "      <td>1981</td>\n",
       "      <td>Comedy, Drama</td>\n",
       "      <td>94</td>\n",
       "      <td>USA</td>\n",
       "      <td>English</td>\n",
       "      <td>11000000</td>\n",
       "      <td>31261269</td>\n",
       "      <td>55.0</td>\n",
       "      <td>16.0</td>\n",
       "      <td>5.0</td>\n",
       "      <td>5</td>\n",
       "      <td>20261269</td>\n",
       "    </tr>\n",
       "  </tbody>\n",
       "</table>\n",
       "</div>"
      ],
      "text/plain": [
       "                       title  year                     genre  duration  \\\n",
       "4334          Kate & Leopold  2001  Comedy, Fantasy, Romance       118   \n",
       "19759     Diritto di cronaca  1981  Drama, Romance, Thriller       116   \n",
       "19774                 Arturo  1981           Comedy, Romance        97   \n",
       "19790               Blow Out  1981     Crime, Drama, Mystery       108   \n",
       "19804  Libertà poco vigilata  1981             Comedy, Drama        94   \n",
       "\n",
       "      country          language    budget  total_gross metascore user_reviews  \\\n",
       "4334      USA   English, French  48000000     76019048      44.0        341.0   \n",
       "19759     USA  English, Spanish  12000000     40716963      64.0        115.0   \n",
       "19774     USA           English   7000000     95461682      69.0        132.0   \n",
       "19790     USA           English  18000000     12000000      86.0        199.0   \n",
       "19804     USA           English  11000000     31261269      55.0         16.0   \n",
       "\n",
       "      critic_reviews  month  net_income  \n",
       "4334           115.0      3    28019048  \n",
       "19759           27.0      3    28716963  \n",
       "19774           44.0      2    88461682  \n",
       "19790          123.0      4    -6000000  \n",
       "19804            5.0      5    20261269  "
      ]
     },
     "execution_count": 23,
     "metadata": {},
     "output_type": "execute_result"
    }
   ],
   "source": [
    "# rename reviews from users\n",
    "imdb_df.rename(columns={\"reviews_from_users\":\"user_reviews\"}, inplace=True)\n",
    "imdb_df.head()"
   ]
  },
  {
   "cell_type": "code",
   "execution_count": 24,
   "id": "a4493c31",
   "metadata": {},
   "outputs": [
    {
     "data": {
      "text/html": [
       "<div>\n",
       "<style scoped>\n",
       "    .dataframe tbody tr th:only-of-type {\n",
       "        vertical-align: middle;\n",
       "    }\n",
       "\n",
       "    .dataframe tbody tr th {\n",
       "        vertical-align: top;\n",
       "    }\n",
       "\n",
       "    .dataframe thead th {\n",
       "        text-align: right;\n",
       "    }\n",
       "</style>\n",
       "<table border=\"1\" class=\"dataframe\">\n",
       "  <thead>\n",
       "    <tr style=\"text-align: right;\">\n",
       "      <th></th>\n",
       "      <th>title</th>\n",
       "      <th>year</th>\n",
       "      <th>month</th>\n",
       "      <th>genre</th>\n",
       "      <th>duration</th>\n",
       "      <th>country</th>\n",
       "      <th>language</th>\n",
       "      <th>budget</th>\n",
       "      <th>total_gross</th>\n",
       "      <th>net_income</th>\n",
       "      <th>critic_reviews</th>\n",
       "      <th>user_reviews</th>\n",
       "      <th>metascore</th>\n",
       "    </tr>\n",
       "  </thead>\n",
       "  <tbody>\n",
       "    <tr>\n",
       "      <th>4334</th>\n",
       "      <td>Kate &amp; Leopold</td>\n",
       "      <td>2001</td>\n",
       "      <td>3</td>\n",
       "      <td>Comedy, Fantasy, Romance</td>\n",
       "      <td>118</td>\n",
       "      <td>USA</td>\n",
       "      <td>English, French</td>\n",
       "      <td>48000000</td>\n",
       "      <td>76019048</td>\n",
       "      <td>28019048</td>\n",
       "      <td>115.0</td>\n",
       "      <td>341.0</td>\n",
       "      <td>44.0</td>\n",
       "    </tr>\n",
       "    <tr>\n",
       "      <th>19759</th>\n",
       "      <td>Diritto di cronaca</td>\n",
       "      <td>1981</td>\n",
       "      <td>3</td>\n",
       "      <td>Drama, Romance, Thriller</td>\n",
       "      <td>116</td>\n",
       "      <td>USA</td>\n",
       "      <td>English, Spanish</td>\n",
       "      <td>12000000</td>\n",
       "      <td>40716963</td>\n",
       "      <td>28716963</td>\n",
       "      <td>27.0</td>\n",
       "      <td>115.0</td>\n",
       "      <td>64.0</td>\n",
       "    </tr>\n",
       "    <tr>\n",
       "      <th>19774</th>\n",
       "      <td>Arturo</td>\n",
       "      <td>1981</td>\n",
       "      <td>2</td>\n",
       "      <td>Comedy, Romance</td>\n",
       "      <td>97</td>\n",
       "      <td>USA</td>\n",
       "      <td>English</td>\n",
       "      <td>7000000</td>\n",
       "      <td>95461682</td>\n",
       "      <td>88461682</td>\n",
       "      <td>44.0</td>\n",
       "      <td>132.0</td>\n",
       "      <td>69.0</td>\n",
       "    </tr>\n",
       "    <tr>\n",
       "      <th>19790</th>\n",
       "      <td>Blow Out</td>\n",
       "      <td>1981</td>\n",
       "      <td>4</td>\n",
       "      <td>Crime, Drama, Mystery</td>\n",
       "      <td>108</td>\n",
       "      <td>USA</td>\n",
       "      <td>English</td>\n",
       "      <td>18000000</td>\n",
       "      <td>12000000</td>\n",
       "      <td>-6000000</td>\n",
       "      <td>123.0</td>\n",
       "      <td>199.0</td>\n",
       "      <td>86.0</td>\n",
       "    </tr>\n",
       "    <tr>\n",
       "      <th>19804</th>\n",
       "      <td>Libertà poco vigilata</td>\n",
       "      <td>1981</td>\n",
       "      <td>5</td>\n",
       "      <td>Comedy, Drama</td>\n",
       "      <td>94</td>\n",
       "      <td>USA</td>\n",
       "      <td>English</td>\n",
       "      <td>11000000</td>\n",
       "      <td>31261269</td>\n",
       "      <td>20261269</td>\n",
       "      <td>5.0</td>\n",
       "      <td>16.0</td>\n",
       "      <td>55.0</td>\n",
       "    </tr>\n",
       "  </tbody>\n",
       "</table>\n",
       "</div>"
      ],
      "text/plain": [
       "                       title  year  month                     genre  duration  \\\n",
       "4334          Kate & Leopold  2001      3  Comedy, Fantasy, Romance       118   \n",
       "19759     Diritto di cronaca  1981      3  Drama, Romance, Thriller       116   \n",
       "19774                 Arturo  1981      2           Comedy, Romance        97   \n",
       "19790               Blow Out  1981      4     Crime, Drama, Mystery       108   \n",
       "19804  Libertà poco vigilata  1981      5             Comedy, Drama        94   \n",
       "\n",
       "      country          language    budget  total_gross  net_income  \\\n",
       "4334      USA   English, French  48000000     76019048    28019048   \n",
       "19759     USA  English, Spanish  12000000     40716963    28716963   \n",
       "19774     USA           English   7000000     95461682    88461682   \n",
       "19790     USA           English  18000000     12000000    -6000000   \n",
       "19804     USA           English  11000000     31261269    20261269   \n",
       "\n",
       "      critic_reviews user_reviews metascore  \n",
       "4334           115.0        341.0      44.0  \n",
       "19759           27.0        115.0      64.0  \n",
       "19774           44.0        132.0      69.0  \n",
       "19790          123.0        199.0      86.0  \n",
       "19804            5.0         16.0      55.0  "
      ]
     },
     "execution_count": 24,
     "metadata": {},
     "output_type": "execute_result"
    }
   ],
   "source": [
    "imdb_df = imdb_df[['title', 'year', 'month', 'genre', 'duration', 'country',\n",
    "       'language', 'budget', 'total_gross', 'net_income', 'critic_reviews', 'user_reviews', 'metascore']]\n",
    "imdb_df.head()"
   ]
  },
  {
   "cell_type": "code",
   "execution_count": 25,
   "id": "4a85ee0e",
   "metadata": {},
   "outputs": [
    {
     "data": {
      "text/plain": [
       "title             object\n",
       "year              object\n",
       "month              int64\n",
       "genre             object\n",
       "duration           int64\n",
       "country           object\n",
       "language          object\n",
       "budget             int64\n",
       "total_gross        int64\n",
       "net_income         int64\n",
       "critic_reviews    object\n",
       "user_reviews      object\n",
       "metascore         object\n",
       "dtype: object"
      ]
     },
     "execution_count": 25,
     "metadata": {},
     "output_type": "execute_result"
    }
   ],
   "source": [
    "# check data types\n",
    "imdb_df.dtypes"
   ]
  },
  {
   "cell_type": "code",
   "execution_count": 26,
   "id": "ea94a85c",
   "metadata": {},
   "outputs": [
    {
     "data": {
      "text/plain": [
       "title             object\n",
       "year               int32\n",
       "month              int64\n",
       "genre             object\n",
       "duration           int64\n",
       "country           object\n",
       "language          object\n",
       "budget             int64\n",
       "total_gross        int64\n",
       "net_income         int64\n",
       "critic_reviews    object\n",
       "user_reviews      object\n",
       "metascore         object\n",
       "dtype: object"
      ]
     },
     "execution_count": 26,
     "metadata": {},
     "output_type": "execute_result"
    }
   ],
   "source": [
    "# convert year, critic reviews, user reviews, and metascore to numeric\n",
    "imdb_df['year'] = imdb_df['year'].astype(int)\n",
    "imdb_df.dtypes"
   ]
  },
  {
   "cell_type": "code",
   "execution_count": 27,
   "id": "7de37b9d",
   "metadata": {},
   "outputs": [
    {
     "data": {
      "text/plain": [
       "title              object\n",
       "year                int32\n",
       "month               int64\n",
       "genre              object\n",
       "duration            int64\n",
       "country            object\n",
       "language           object\n",
       "budget              int64\n",
       "total_gross         int64\n",
       "net_income          int64\n",
       "critic_reviews     object\n",
       "user_reviews       object\n",
       "metascore         float64\n",
       "dtype: object"
      ]
     },
     "execution_count": 27,
     "metadata": {},
     "output_type": "execute_result"
    }
   ],
   "source": [
    "# convert metascore data types to float\n",
    "imdb_df['metascore']=imdb_df['metascore'].astype(float)\n",
    "imdb_df.dtypes"
   ]
  },
  {
   "cell_type": "code",
   "execution_count": 28,
   "id": "4f96cb62",
   "metadata": {},
   "outputs": [
    {
     "data": {
      "text/plain": [
       "title              object\n",
       "year                int32\n",
       "month               int64\n",
       "genre              object\n",
       "duration            int64\n",
       "country            object\n",
       "language           object\n",
       "budget              int64\n",
       "total_gross         int64\n",
       "net_income          int64\n",
       "critic_reviews    float64\n",
       "user_reviews      float64\n",
       "metascore         float64\n",
       "dtype: object"
      ]
     },
     "execution_count": 28,
     "metadata": {},
     "output_type": "execute_result"
    }
   ],
   "source": [
    "# convert critic and user reviews to float\n",
    "imdb_df['critic_reviews']=imdb_df['critic_reviews'].astype(float)\n",
    "imdb_df['user_reviews']=imdb_df['user_reviews'].astype(float)\n",
    "imdb_df.dtypes"
   ]
  },
  {
   "cell_type": "code",
   "execution_count": 29,
   "id": "27750cfb",
   "metadata": {},
   "outputs": [
    {
     "data": {
      "text/html": [
       "<div>\n",
       "<style scoped>\n",
       "    .dataframe tbody tr th:only-of-type {\n",
       "        vertical-align: middle;\n",
       "    }\n",
       "\n",
       "    .dataframe tbody tr th {\n",
       "        vertical-align: top;\n",
       "    }\n",
       "\n",
       "    .dataframe thead th {\n",
       "        text-align: right;\n",
       "    }\n",
       "</style>\n",
       "<table border=\"1\" class=\"dataframe\">\n",
       "  <thead>\n",
       "    <tr style=\"text-align: right;\">\n",
       "      <th></th>\n",
       "      <th>title</th>\n",
       "      <th>year</th>\n",
       "      <th>month</th>\n",
       "      <th>genre</th>\n",
       "      <th>duration</th>\n",
       "      <th>country</th>\n",
       "      <th>language</th>\n",
       "      <th>budget</th>\n",
       "      <th>total_gross</th>\n",
       "      <th>net_income</th>\n",
       "      <th>critic_reviews</th>\n",
       "      <th>user_reviews</th>\n",
       "      <th>metascore</th>\n",
       "    </tr>\n",
       "  </thead>\n",
       "  <tbody>\n",
       "    <tr>\n",
       "      <th>4334</th>\n",
       "      <td>Kate &amp; Leopold</td>\n",
       "      <td>2001</td>\n",
       "      <td>3</td>\n",
       "      <td>Comedy, Fantasy, Romance</td>\n",
       "      <td>118</td>\n",
       "      <td>USA</td>\n",
       "      <td>English, French</td>\n",
       "      <td>48000000</td>\n",
       "      <td>76019048</td>\n",
       "      <td>28019048</td>\n",
       "      <td>115.0</td>\n",
       "      <td>341.0</td>\n",
       "      <td>44.0</td>\n",
       "    </tr>\n",
       "    <tr>\n",
       "      <th>19759</th>\n",
       "      <td>Diritto di cronaca</td>\n",
       "      <td>1981</td>\n",
       "      <td>3</td>\n",
       "      <td>Drama, Romance, Thriller</td>\n",
       "      <td>116</td>\n",
       "      <td>USA</td>\n",
       "      <td>English, Spanish</td>\n",
       "      <td>12000000</td>\n",
       "      <td>40716963</td>\n",
       "      <td>28716963</td>\n",
       "      <td>27.0</td>\n",
       "      <td>115.0</td>\n",
       "      <td>64.0</td>\n",
       "    </tr>\n",
       "    <tr>\n",
       "      <th>19774</th>\n",
       "      <td>Arturo</td>\n",
       "      <td>1981</td>\n",
       "      <td>2</td>\n",
       "      <td>Comedy, Romance</td>\n",
       "      <td>97</td>\n",
       "      <td>USA</td>\n",
       "      <td>English</td>\n",
       "      <td>7000000</td>\n",
       "      <td>95461682</td>\n",
       "      <td>88461682</td>\n",
       "      <td>44.0</td>\n",
       "      <td>132.0</td>\n",
       "      <td>69.0</td>\n",
       "    </tr>\n",
       "    <tr>\n",
       "      <th>19790</th>\n",
       "      <td>Blow Out</td>\n",
       "      <td>1981</td>\n",
       "      <td>4</td>\n",
       "      <td>Crime, Drama, Mystery</td>\n",
       "      <td>108</td>\n",
       "      <td>USA</td>\n",
       "      <td>English</td>\n",
       "      <td>18000000</td>\n",
       "      <td>12000000</td>\n",
       "      <td>-6000000</td>\n",
       "      <td>123.0</td>\n",
       "      <td>199.0</td>\n",
       "      <td>86.0</td>\n",
       "    </tr>\n",
       "    <tr>\n",
       "      <th>19804</th>\n",
       "      <td>Libertà poco vigilata</td>\n",
       "      <td>1981</td>\n",
       "      <td>5</td>\n",
       "      <td>Comedy, Drama</td>\n",
       "      <td>94</td>\n",
       "      <td>USA</td>\n",
       "      <td>English</td>\n",
       "      <td>11000000</td>\n",
       "      <td>31261269</td>\n",
       "      <td>20261269</td>\n",
       "      <td>5.0</td>\n",
       "      <td>16.0</td>\n",
       "      <td>55.0</td>\n",
       "    </tr>\n",
       "    <tr>\n",
       "      <th>19837</th>\n",
       "      <td>Alla maniera di Cutter</td>\n",
       "      <td>1981</td>\n",
       "      <td>2</td>\n",
       "      <td>Crime, Drama, Mystery</td>\n",
       "      <td>109</td>\n",
       "      <td>USA</td>\n",
       "      <td>English</td>\n",
       "      <td>3000000</td>\n",
       "      <td>1752634</td>\n",
       "      <td>-1247366</td>\n",
       "      <td>43.0</td>\n",
       "      <td>60.0</td>\n",
       "      <td>70.0</td>\n",
       "    </tr>\n",
       "    <tr>\n",
       "      <th>19847</th>\n",
       "      <td>Benedizione mortale</td>\n",
       "      <td>1981</td>\n",
       "      <td>8</td>\n",
       "      <td>Horror, Thriller</td>\n",
       "      <td>100</td>\n",
       "      <td>USA</td>\n",
       "      <td>English</td>\n",
       "      <td>2500000</td>\n",
       "      <td>8279042</td>\n",
       "      <td>5779042</td>\n",
       "      <td>114.0</td>\n",
       "      <td>73.0</td>\n",
       "      <td>56.0</td>\n",
       "    </tr>\n",
       "    <tr>\n",
       "      <th>19880</th>\n",
       "      <td>Entity</td>\n",
       "      <td>1982</td>\n",
       "      <td>2</td>\n",
       "      <td>Drama, Horror</td>\n",
       "      <td>125</td>\n",
       "      <td>USA</td>\n",
       "      <td>English</td>\n",
       "      <td>9000000</td>\n",
       "      <td>13277558</td>\n",
       "      <td>4277558</td>\n",
       "      <td>122.0</td>\n",
       "      <td>145.0</td>\n",
       "      <td>35.0</td>\n",
       "    </tr>\n",
       "    <tr>\n",
       "      <th>19883</th>\n",
       "      <td>1997: fuga da New York</td>\n",
       "      <td>1981</td>\n",
       "      <td>10</td>\n",
       "      <td>Action, Adventure, Sci-Fi</td>\n",
       "      <td>99</td>\n",
       "      <td>USA</td>\n",
       "      <td>English</td>\n",
       "      <td>6000000</td>\n",
       "      <td>25244626</td>\n",
       "      <td>19244626</td>\n",
       "      <td>250.0</td>\n",
       "      <td>343.0</td>\n",
       "      <td>76.0</td>\n",
       "    </tr>\n",
       "    <tr>\n",
       "      <th>19892</th>\n",
       "      <td>Uno scomodo testimone</td>\n",
       "      <td>1981</td>\n",
       "      <td>9</td>\n",
       "      <td>Crime, Drama, Mystery</td>\n",
       "      <td>103</td>\n",
       "      <td>USA</td>\n",
       "      <td>English</td>\n",
       "      <td>8500000</td>\n",
       "      <td>6400000</td>\n",
       "      <td>-2100000</td>\n",
       "      <td>31.0</td>\n",
       "      <td>38.0</td>\n",
       "      <td>61.0</td>\n",
       "    </tr>\n",
       "  </tbody>\n",
       "</table>\n",
       "</div>"
      ],
      "text/plain": [
       "                        title  year  month                      genre  \\\n",
       "4334           Kate & Leopold  2001      3   Comedy, Fantasy, Romance   \n",
       "19759      Diritto di cronaca  1981      3   Drama, Romance, Thriller   \n",
       "19774                  Arturo  1981      2            Comedy, Romance   \n",
       "19790                Blow Out  1981      4      Crime, Drama, Mystery   \n",
       "19804   Libertà poco vigilata  1981      5              Comedy, Drama   \n",
       "19837  Alla maniera di Cutter  1981      2      Crime, Drama, Mystery   \n",
       "19847     Benedizione mortale  1981      8           Horror, Thriller   \n",
       "19880                  Entity  1982      2              Drama, Horror   \n",
       "19883  1997: fuga da New York  1981     10  Action, Adventure, Sci-Fi   \n",
       "19892   Uno scomodo testimone  1981      9      Crime, Drama, Mystery   \n",
       "\n",
       "       duration country          language    budget  total_gross  net_income  \\\n",
       "4334        118     USA   English, French  48000000     76019048    28019048   \n",
       "19759       116     USA  English, Spanish  12000000     40716963    28716963   \n",
       "19774        97     USA           English   7000000     95461682    88461682   \n",
       "19790       108     USA           English  18000000     12000000    -6000000   \n",
       "19804        94     USA           English  11000000     31261269    20261269   \n",
       "19837       109     USA           English   3000000      1752634    -1247366   \n",
       "19847       100     USA           English   2500000      8279042     5779042   \n",
       "19880       125     USA           English   9000000     13277558     4277558   \n",
       "19883        99     USA           English   6000000     25244626    19244626   \n",
       "19892       103     USA           English   8500000      6400000    -2100000   \n",
       "\n",
       "       critic_reviews  user_reviews  metascore  \n",
       "4334            115.0         341.0       44.0  \n",
       "19759            27.0         115.0       64.0  \n",
       "19774            44.0         132.0       69.0  \n",
       "19790           123.0         199.0       86.0  \n",
       "19804             5.0          16.0       55.0  \n",
       "19837            43.0          60.0       70.0  \n",
       "19847           114.0          73.0       56.0  \n",
       "19880           122.0         145.0       35.0  \n",
       "19883           250.0         343.0       76.0  \n",
       "19892            31.0          38.0       61.0  "
      ]
     },
     "execution_count": 29,
     "metadata": {},
     "output_type": "execute_result"
    }
   ],
   "source": [
    "imdb_df.head(10)"
   ]
  },
  {
   "cell_type": "code",
   "execution_count": 30,
   "id": "35a0ee98",
   "metadata": {},
   "outputs": [
    {
     "data": {
      "text/html": [
       "<div>\n",
       "<style scoped>\n",
       "    .dataframe tbody tr th:only-of-type {\n",
       "        vertical-align: middle;\n",
       "    }\n",
       "\n",
       "    .dataframe tbody tr th {\n",
       "        vertical-align: top;\n",
       "    }\n",
       "\n",
       "    .dataframe thead th {\n",
       "        text-align: right;\n",
       "    }\n",
       "</style>\n",
       "<table border=\"1\" class=\"dataframe\">\n",
       "  <thead>\n",
       "    <tr style=\"text-align: right;\">\n",
       "      <th></th>\n",
       "      <th>title</th>\n",
       "      <th>year</th>\n",
       "      <th>month</th>\n",
       "      <th>genre</th>\n",
       "      <th>duration</th>\n",
       "      <th>country</th>\n",
       "      <th>language</th>\n",
       "      <th>budget</th>\n",
       "      <th>total_gross</th>\n",
       "      <th>net_income</th>\n",
       "      <th>critic_reviews</th>\n",
       "      <th>user_reviews</th>\n",
       "      <th>metascore</th>\n",
       "      <th>meta_hit</th>\n",
       "    </tr>\n",
       "  </thead>\n",
       "  <tbody>\n",
       "    <tr>\n",
       "      <th>4334</th>\n",
       "      <td>Kate &amp; Leopold</td>\n",
       "      <td>2001</td>\n",
       "      <td>3</td>\n",
       "      <td>Comedy, Fantasy, Romance</td>\n",
       "      <td>118</td>\n",
       "      <td>USA</td>\n",
       "      <td>English, French</td>\n",
       "      <td>48000000</td>\n",
       "      <td>76019048</td>\n",
       "      <td>28019048</td>\n",
       "      <td>115.0</td>\n",
       "      <td>341.0</td>\n",
       "      <td>44.0</td>\n",
       "      <td>0</td>\n",
       "    </tr>\n",
       "    <tr>\n",
       "      <th>19759</th>\n",
       "      <td>Diritto di cronaca</td>\n",
       "      <td>1981</td>\n",
       "      <td>3</td>\n",
       "      <td>Drama, Romance, Thriller</td>\n",
       "      <td>116</td>\n",
       "      <td>USA</td>\n",
       "      <td>English, Spanish</td>\n",
       "      <td>12000000</td>\n",
       "      <td>40716963</td>\n",
       "      <td>28716963</td>\n",
       "      <td>27.0</td>\n",
       "      <td>115.0</td>\n",
       "      <td>64.0</td>\n",
       "      <td>0</td>\n",
       "    </tr>\n",
       "    <tr>\n",
       "      <th>19774</th>\n",
       "      <td>Arturo</td>\n",
       "      <td>1981</td>\n",
       "      <td>2</td>\n",
       "      <td>Comedy, Romance</td>\n",
       "      <td>97</td>\n",
       "      <td>USA</td>\n",
       "      <td>English</td>\n",
       "      <td>7000000</td>\n",
       "      <td>95461682</td>\n",
       "      <td>88461682</td>\n",
       "      <td>44.0</td>\n",
       "      <td>132.0</td>\n",
       "      <td>69.0</td>\n",
       "      <td>0</td>\n",
       "    </tr>\n",
       "    <tr>\n",
       "      <th>19790</th>\n",
       "      <td>Blow Out</td>\n",
       "      <td>1981</td>\n",
       "      <td>4</td>\n",
       "      <td>Crime, Drama, Mystery</td>\n",
       "      <td>108</td>\n",
       "      <td>USA</td>\n",
       "      <td>English</td>\n",
       "      <td>18000000</td>\n",
       "      <td>12000000</td>\n",
       "      <td>-6000000</td>\n",
       "      <td>123.0</td>\n",
       "      <td>199.0</td>\n",
       "      <td>86.0</td>\n",
       "      <td>1</td>\n",
       "    </tr>\n",
       "    <tr>\n",
       "      <th>19804</th>\n",
       "      <td>Libertà poco vigilata</td>\n",
       "      <td>1981</td>\n",
       "      <td>5</td>\n",
       "      <td>Comedy, Drama</td>\n",
       "      <td>94</td>\n",
       "      <td>USA</td>\n",
       "      <td>English</td>\n",
       "      <td>11000000</td>\n",
       "      <td>31261269</td>\n",
       "      <td>20261269</td>\n",
       "      <td>5.0</td>\n",
       "      <td>16.0</td>\n",
       "      <td>55.0</td>\n",
       "      <td>0</td>\n",
       "    </tr>\n",
       "    <tr>\n",
       "      <th>...</th>\n",
       "      <td>...</td>\n",
       "      <td>...</td>\n",
       "      <td>...</td>\n",
       "      <td>...</td>\n",
       "      <td>...</td>\n",
       "      <td>...</td>\n",
       "      <td>...</td>\n",
       "      <td>...</td>\n",
       "      <td>...</td>\n",
       "      <td>...</td>\n",
       "      <td>...</td>\n",
       "      <td>...</td>\n",
       "      <td>...</td>\n",
       "      <td>...</td>\n",
       "    </tr>\n",
       "    <tr>\n",
       "      <th>84912</th>\n",
       "      <td>Cena con delitto - Knives Out</td>\n",
       "      <td>2019</td>\n",
       "      <td>12</td>\n",
       "      <td>Comedy, Crime, Drama</td>\n",
       "      <td>130</td>\n",
       "      <td>USA</td>\n",
       "      <td>English, Spanish, Hindi</td>\n",
       "      <td>40000000</td>\n",
       "      <td>309232797</td>\n",
       "      <td>269232797</td>\n",
       "      <td>448.0</td>\n",
       "      <td>2334.0</td>\n",
       "      <td>82.0</td>\n",
       "      <td>1</td>\n",
       "    </tr>\n",
       "    <tr>\n",
       "      <th>85028</th>\n",
       "      <td>Unplanned</td>\n",
       "      <td>2019</td>\n",
       "      <td>3</td>\n",
       "      <td>Biography, Drama</td>\n",
       "      <td>109</td>\n",
       "      <td>USA</td>\n",
       "      <td>English</td>\n",
       "      <td>6000000</td>\n",
       "      <td>21171090</td>\n",
       "      <td>15171090</td>\n",
       "      <td>34.0</td>\n",
       "      <td>629.0</td>\n",
       "      <td>10.0</td>\n",
       "      <td>0</td>\n",
       "    </tr>\n",
       "    <tr>\n",
       "      <th>85176</th>\n",
       "      <td>Non si scherza col fuoco</td>\n",
       "      <td>2019</td>\n",
       "      <td>2</td>\n",
       "      <td>Comedy, Family</td>\n",
       "      <td>96</td>\n",
       "      <td>USA</td>\n",
       "      <td>English, Spanish</td>\n",
       "      <td>29900000</td>\n",
       "      <td>68631669</td>\n",
       "      <td>38731669</td>\n",
       "      <td>62.0</td>\n",
       "      <td>219.0</td>\n",
       "      <td>24.0</td>\n",
       "      <td>0</td>\n",
       "    </tr>\n",
       "    <tr>\n",
       "      <th>85266</th>\n",
       "      <td>Impractical Jokers: The Movie</td>\n",
       "      <td>2020</td>\n",
       "      <td>2</td>\n",
       "      <td>Comedy</td>\n",
       "      <td>92</td>\n",
       "      <td>USA</td>\n",
       "      <td>English</td>\n",
       "      <td>3000000</td>\n",
       "      <td>10691091</td>\n",
       "      <td>7691091</td>\n",
       "      <td>17.0</td>\n",
       "      <td>152.0</td>\n",
       "      <td>39.0</td>\n",
       "      <td>0</td>\n",
       "    </tr>\n",
       "    <tr>\n",
       "      <th>85740</th>\n",
       "      <td>Cosa mi lasci di te</td>\n",
       "      <td>2020</td>\n",
       "      <td>3</td>\n",
       "      <td>Biography, Drama, Music</td>\n",
       "      <td>116</td>\n",
       "      <td>USA</td>\n",
       "      <td>English</td>\n",
       "      <td>12000000</td>\n",
       "      <td>13681524</td>\n",
       "      <td>1681524</td>\n",
       "      <td>52.0</td>\n",
       "      <td>151.0</td>\n",
       "      <td>41.0</td>\n",
       "      <td>0</td>\n",
       "    </tr>\n",
       "  </tbody>\n",
       "</table>\n",
       "<p>3331 rows × 14 columns</p>\n",
       "</div>"
      ],
      "text/plain": [
       "                               title  year  month                     genre  \\\n",
       "4334                  Kate & Leopold  2001      3  Comedy, Fantasy, Romance   \n",
       "19759             Diritto di cronaca  1981      3  Drama, Romance, Thriller   \n",
       "19774                         Arturo  1981      2           Comedy, Romance   \n",
       "19790                       Blow Out  1981      4     Crime, Drama, Mystery   \n",
       "19804          Libertà poco vigilata  1981      5             Comedy, Drama   \n",
       "...                              ...   ...    ...                       ...   \n",
       "84912  Cena con delitto - Knives Out  2019     12      Comedy, Crime, Drama   \n",
       "85028                      Unplanned  2019      3          Biography, Drama   \n",
       "85176       Non si scherza col fuoco  2019      2            Comedy, Family   \n",
       "85266  Impractical Jokers: The Movie  2020      2                    Comedy   \n",
       "85740            Cosa mi lasci di te  2020      3   Biography, Drama, Music   \n",
       "\n",
       "       duration country                 language    budget  total_gross  \\\n",
       "4334        118     USA          English, French  48000000     76019048   \n",
       "19759       116     USA         English, Spanish  12000000     40716963   \n",
       "19774        97     USA                  English   7000000     95461682   \n",
       "19790       108     USA                  English  18000000     12000000   \n",
       "19804        94     USA                  English  11000000     31261269   \n",
       "...         ...     ...                      ...       ...          ...   \n",
       "84912       130     USA  English, Spanish, Hindi  40000000    309232797   \n",
       "85028       109     USA                  English   6000000     21171090   \n",
       "85176        96     USA         English, Spanish  29900000     68631669   \n",
       "85266        92     USA                  English   3000000     10691091   \n",
       "85740       116     USA                  English  12000000     13681524   \n",
       "\n",
       "       net_income  critic_reviews  user_reviews  metascore meta_hit  \n",
       "4334     28019048           115.0         341.0       44.0        0  \n",
       "19759    28716963            27.0         115.0       64.0        0  \n",
       "19774    88461682            44.0         132.0       69.0        0  \n",
       "19790    -6000000           123.0         199.0       86.0        1  \n",
       "19804    20261269             5.0          16.0       55.0        0  \n",
       "...           ...             ...           ...        ...      ...  \n",
       "84912   269232797           448.0        2334.0       82.0        1  \n",
       "85028    15171090            34.0         629.0       10.0        0  \n",
       "85176    38731669            62.0         219.0       24.0        0  \n",
       "85266     7691091            17.0         152.0       39.0        0  \n",
       "85740     1681524            52.0         151.0       41.0        0  \n",
       "\n",
       "[3331 rows x 14 columns]"
      ]
     },
     "execution_count": 30,
     "metadata": {},
     "output_type": "execute_result"
    }
   ],
   "source": [
    "# create a new column 'meta_hit'\n",
    "def f(row):\n",
    "    if float(row['metascore']) >= 75.0:\n",
    "        val = '1'\n",
    "    else:\n",
    "        val = '0'\n",
    "    return val\n",
    "\n",
    "imdb_df['meta_hit'] = imdb_df.apply(f, axis=1)\n",
    "\n",
    "imdb_df"
   ]
  },
  {
   "cell_type": "code",
   "execution_count": 31,
   "id": "c0f0e6fe",
   "metadata": {},
   "outputs": [
    {
     "data": {
      "text/plain": [
       "title              object\n",
       "year                int32\n",
       "month               int64\n",
       "genre              object\n",
       "duration            int64\n",
       "country            object\n",
       "language           object\n",
       "budget              int64\n",
       "total_gross         int64\n",
       "net_income          int64\n",
       "critic_reviews    float64\n",
       "user_reviews      float64\n",
       "metascore         float64\n",
       "meta_hit            int64\n",
       "dtype: object"
      ]
     },
     "execution_count": 31,
     "metadata": {},
     "output_type": "execute_result"
    }
   ],
   "source": [
    "# convert meta_hit to numeric\n",
    "imdb_df['meta_hit'] = pd.to_numeric(imdb_df['meta_hit'])\n",
    "imdb_df.dtypes"
   ]
  },
  {
   "cell_type": "code",
   "execution_count": null,
   "id": "845051f8",
   "metadata": {},
   "outputs": [],
   "source": [
    "# # save new cleaned data\n",
    "# imdb_df.to_csv('resources/cleaned_movies_v2.csv')"
   ]
  },
  {
   "cell_type": "code",
   "execution_count": 32,
   "id": "74da165d",
   "metadata": {},
   "outputs": [
    {
     "data": {
      "text/plain": [
       "<AxesSubplot:>"
      ]
     },
     "execution_count": 32,
     "metadata": {},
     "output_type": "execute_result"
    },
    {
     "data": {
      "text/plain": [
       "<Figure size 1800x800 with 0 Axes>"
      ]
     },
     "metadata": {},
     "output_type": "display_data"
    },
    {
     "data": {
      "image/png": "[encoded data removed]",
      "text/plain": [
       "<Figure size 1080x432 with 2 Axes>"
      ]
     },
     "metadata": {
      "needs_background": "light"
     },
     "output_type": "display_data"
    }
   ],
   "source": [
    "# plot a heat map\n",
    "plt.figure(figsize=(18,8),dpi=100,)\n",
    "plt.subplots(figsize=(15,6))\n",
    "sns.heatmap(data=imdb_df.corr(),square=True,vmax=0.8,annot=True)"
   ]
  },
  {
   "cell_type": "code",
   "execution_count": 33,
   "id": "9cb25d7d",
   "metadata": {},
   "outputs": [
    {
     "data": {
      "text/plain": [
       "Index(['title', 'year', 'month', 'genre', 'duration', 'country', 'language',\n",
       "       'budget', 'total_gross', 'net_income', 'critic_reviews', 'user_reviews',\n",
       "       'metascore', 'meta_hit'],\n",
       "      dtype='object')"
      ]
     },
     "execution_count": 33,
     "metadata": {},
     "output_type": "execute_result"
    }
   ],
   "source": [
    "imdb_df.columns"
   ]
  },
  {
   "cell_type": "code",
   "execution_count": 34,
   "id": "15a69322",
   "metadata": {},
   "outputs": [
    {
     "data": {
      "text/plain": [
       "<seaborn.axisgrid.JointGrid at 0x1ae7d7ccb08>"
      ]
     },
     "execution_count": 34,
     "metadata": {},
     "output_type": "execute_result"
    },
    {
     "data": {
      "image/png": "[encoded data removed]",
      "text/plain": [
       "<Figure size 568.8x568.8 with 3 Axes>"
      ]
     },
     "metadata": {
      "needs_background": "light"
     },
     "output_type": "display_data"
    }
   ],
   "source": [
    "# create a sns plot for metascore and gross\n",
    "sns.jointplot(x=(imdb_df['metascore']),y=(imdb_df['total_gross']),kind='reg',height=7.9)"
   ]
  },
  {
   "cell_type": "code",
   "execution_count": 35,
   "id": "b9d8bbdd",
   "metadata": {},
   "outputs": [
    {
     "data": {
      "text/plain": [
       "<seaborn.axisgrid.JointGrid at 0x1ae7c8cc2c8>"
      ]
     },
     "execution_count": 35,
     "metadata": {},
     "output_type": "execute_result"
    },
    {
     "data": {
      "image/png": "[encoded data removed]",
      "text/plain": [
       "<Figure size 568.8x568.8 with 3 Axes>"
      ]
     },
     "metadata": {
      "needs_background": "light"
     },
     "output_type": "display_data"
    }
   ],
   "source": [
    "# create a sns plot for metascore and net_income\n",
    "sns.jointplot(x=(imdb_df['metascore']),y=(imdb_df['net_income']),kind='reg',height=7.9)"
   ]
  },
  {
   "cell_type": "code",
   "execution_count": 36,
   "id": "f748ac26",
   "metadata": {},
   "outputs": [
    {
     "data": {
      "text/plain": [
       "47.0     87\n",
       "45.0     86\n",
       "52.0     77\n",
       "49.0     76\n",
       "56.0     75\n",
       "         ..\n",
       "8.0       1\n",
       "5.0       1\n",
       "100.0     1\n",
       "6.0       1\n",
       "99.0      1\n",
       "Name: metascore, Length: 95, dtype: int64"
      ]
     },
     "execution_count": 36,
     "metadata": {},
     "output_type": "execute_result"
    }
   ],
   "source": [
    "# get metscore counts\n",
    "meta_counts = imdb_df.metascore.value_counts()\n",
    "meta_counts"
   ]
  },
  {
   "cell_type": "code",
   "execution_count": 37,
   "id": "04a2356c",
   "metadata": {},
   "outputs": [
    {
     "data": {
      "text/plain": [
       "4334      (25.75, 50.5]\n",
       "19759     (50.5, 75.25]\n",
       "19774     (50.5, 75.25]\n",
       "19790    (75.25, 100.0]\n",
       "19804     (50.5, 75.25]\n",
       "              ...      \n",
       "84912    (75.25, 100.0]\n",
       "85028    (0.901, 25.75]\n",
       "85176    (0.901, 25.75]\n",
       "85266     (25.75, 50.5]\n",
       "85740     (25.75, 50.5]\n",
       "Name: metascore, Length: 3331, dtype: category\n",
       "Categories (4, interval[float64]): [(0.901, 25.75] < (25.75, 50.5] < (50.5, 75.25] < (75.25, 100.0]]"
      ]
     },
     "execution_count": 37,
     "metadata": {},
     "output_type": "execute_result"
    }
   ],
   "source": [
    "pd.cut(imdb_df['metascore'].astype(float),bins=4)"
   ]
  },
  {
   "cell_type": "code",
   "execution_count": 38,
   "id": "ab5be651",
   "metadata": {},
   "outputs": [
    {
     "data": {
      "text/plain": [
       "<AxesSubplot:ylabel='Density'>"
      ]
     },
     "execution_count": 38,
     "metadata": {},
     "output_type": "execute_result"
    },
    {
     "data": {
      "image/png": "[encoded data removed]",
      "text/plain": [
       "<Figure size 432x288 with 1 Axes>"
      ]
     },
     "metadata": {
      "needs_background": "light"
     },
     "output_type": "display_data"
    }
   ],
   "source": [
    "# visualize the value counts of metascore\n",
    "meta_counts.plot.density()"
   ]
  },
  {
   "cell_type": "code",
   "execution_count": 39,
   "id": "21409da5",
   "metadata": {},
   "outputs": [
    {
     "data": {
      "text/plain": [
       "<seaborn.axisgrid.FacetGrid at 0x1ae7c8c9d08>"
      ]
     },
     "execution_count": 39,
     "metadata": {},
     "output_type": "execute_result"
    },
    {
     "data": {
      "image/png": "[encoded data removed]",
      "text/plain": [
       "<Figure size 568.8x568.8 with 1 Axes>"
      ]
     },
     "metadata": {
      "needs_background": "light"
     },
     "output_type": "display_data"
    }
   ],
   "source": [
    "# create a plot comparing month to metascore\n",
    "sns.relplot(x='month',y='metascore', kind='line', ci='sd', data=imdb_df, height=7.9)"
   ]
  },
  {
   "cell_type": "code",
   "execution_count": 63,
   "id": "c208ea5d",
   "metadata": {},
   "outputs": [
    {
     "data": {
      "text/plain": [
       "genre\n",
       "Action                        1\n",
       "Action, Adventure             7\n",
       "Action, Adventure, Comedy    59\n",
       "Action, Adventure, Crime     13\n",
       "Action, Adventure, Drama     28\n",
       "                             ..\n",
       "Romance, Sci-Fi, Thriller     1\n",
       "Sci-Fi                        1\n",
       "Sci-Fi, Thriller              3\n",
       "Thriller                      7\n",
       "Thriller, Western             1\n",
       "Name: genre, Length: 289, dtype: int64"
      ]
     },
     "execution_count": 63,
     "metadata": {},
     "output_type": "execute_result"
    }
   ],
   "source": [
    "imdb_df.groupby('genre')['genre'].count()"
   ]
  },
  {
   "cell_type": "code",
   "execution_count": 64,
   "id": "86d5ef97",
   "metadata": {},
   "outputs": [
    {
     "data": {
      "text/plain": [
       "Comedy, Drama, Romance    206\n",
       "Comedy                    189\n",
       "Drama                     172\n",
       "Comedy, Drama             171\n",
       "Comedy, Romance           148\n",
       "                         ... \n",
       "Family, Sci-Fi              1\n",
       "Family, Music, Musical      1\n",
       "Drama, Thriller, Crime      1\n",
       "Comedy, Action              1\n",
       "Comedy, Crime, Sport        1\n",
       "Name: genre, Length: 289, dtype: int64"
      ]
     },
     "execution_count": 64,
     "metadata": {},
     "output_type": "execute_result"
    }
   ],
   "source": [
    "# get genre counts\n",
    "genre_counts = imdb_df.genre.value_counts()\n",
    "genre_counts"
   ]
  },
  {
   "cell_type": "code",
   "execution_count": 40,
   "id": "b0b1752d",
   "metadata": {},
   "outputs": [
    {
     "data": {
      "image/png": "[encoded data removed]",
      "text/plain": [
       "<Figure size 432x288 with 1 Axes>"
      ]
     },
     "metadata": {
      "needs_background": "light"
     },
     "output_type": "display_data"
    }
   ],
   "source": [
    "# year vs gross\n",
    "plt.scatter(imdb_df.year, imdb_df.total_gross)\n",
    "plt.xlabel('Year')\n",
    "plt.ylabel('Gross')\n",
    "plt.show()"
   ]
  },
  {
   "cell_type": "code",
   "execution_count": 41,
   "id": "db16ca78",
   "metadata": {},
   "outputs": [
    {
     "data": {
      "image/png": "[encoded data removed]",
      "text/plain": [
       "<Figure size 432x288 with 1 Axes>"
      ]
     },
     "metadata": {
      "needs_background": "light"
     },
     "output_type": "display_data"
    }
   ],
   "source": [
    "plt.scatter(imdb_df.year, imdb_df.budget)\n",
    "plt.xlabel('Year')\n",
    "plt.ylabel('Budget')\n",
    "plt.show()"
   ]
  },
  {
   "cell_type": "code",
   "execution_count": 42,
   "id": "8d7fff63",
   "metadata": {},
   "outputs": [
    {
     "data": {
      "image/png": "[encoded data removed]",
      "text/plain": [
       "<Figure size 432x288 with 1 Axes>"
      ]
     },
     "metadata": {
      "needs_background": "light"
     },
     "output_type": "display_data"
    }
   ],
   "source": [
    "# month vs gross\n",
    "plt.scatter(imdb_df.month, imdb_df.total_gross)\n",
    "plt.xlabel('Month')\n",
    "plt.ylabel('Gross')\n",
    "plt.show()"
   ]
  },
  {
   "cell_type": "code",
   "execution_count": 43,
   "id": "58732e82",
   "metadata": {},
   "outputs": [
    {
     "data": {
      "image/png": "[encoded data removed]",
      "text/plain": [
       "<Figure size 432x288 with 1 Axes>"
      ]
     },
     "metadata": {
      "needs_background": "light"
     },
     "output_type": "display_data"
    }
   ],
   "source": [
    "# budget vs gross\n",
    "plt.scatter(imdb_df.budget, imdb_df.total_gross)\n",
    "plt.xlabel('Budget')\n",
    "plt.ylabel('Gross')\n",
    "plt.show()"
   ]
  },
  {
   "cell_type": "code",
   "execution_count": 44,
   "id": "b6ff2f20",
   "metadata": {},
   "outputs": [
    {
     "data": {
      "text/html": [
       "<div>\n",
       "<style scoped>\n",
       "    .dataframe tbody tr th:only-of-type {\n",
       "        vertical-align: middle;\n",
       "    }\n",
       "\n",
       "    .dataframe tbody tr th {\n",
       "        vertical-align: top;\n",
       "    }\n",
       "\n",
       "    .dataframe thead th {\n",
       "        text-align: right;\n",
       "    }\n",
       "</style>\n",
       "<table border=\"1\" class=\"dataframe\">\n",
       "  <thead>\n",
       "    <tr style=\"text-align: right;\">\n",
       "      <th></th>\n",
       "      <th>Budget</th>\n",
       "      <th>Gross</th>\n",
       "    </tr>\n",
       "  </thead>\n",
       "  <tbody>\n",
       "    <tr>\n",
       "      <th>0</th>\n",
       "      <td>48000000</td>\n",
       "      <td>76019048</td>\n",
       "    </tr>\n",
       "    <tr>\n",
       "      <th>1</th>\n",
       "      <td>12000000</td>\n",
       "      <td>40716963</td>\n",
       "    </tr>\n",
       "    <tr>\n",
       "      <th>2</th>\n",
       "      <td>7000000</td>\n",
       "      <td>95461682</td>\n",
       "    </tr>\n",
       "    <tr>\n",
       "      <th>3</th>\n",
       "      <td>18000000</td>\n",
       "      <td>12000000</td>\n",
       "    </tr>\n",
       "    <tr>\n",
       "      <th>4</th>\n",
       "      <td>11000000</td>\n",
       "      <td>31261269</td>\n",
       "    </tr>\n",
       "    <tr>\n",
       "      <th>...</th>\n",
       "      <td>...</td>\n",
       "      <td>...</td>\n",
       "    </tr>\n",
       "    <tr>\n",
       "      <th>3326</th>\n",
       "      <td>40000000</td>\n",
       "      <td>309232797</td>\n",
       "    </tr>\n",
       "    <tr>\n",
       "      <th>3327</th>\n",
       "      <td>6000000</td>\n",
       "      <td>21171090</td>\n",
       "    </tr>\n",
       "    <tr>\n",
       "      <th>3328</th>\n",
       "      <td>29900000</td>\n",
       "      <td>68631669</td>\n",
       "    </tr>\n",
       "    <tr>\n",
       "      <th>3329</th>\n",
       "      <td>3000000</td>\n",
       "      <td>10691091</td>\n",
       "    </tr>\n",
       "    <tr>\n",
       "      <th>3330</th>\n",
       "      <td>12000000</td>\n",
       "      <td>13681524</td>\n",
       "    </tr>\n",
       "  </tbody>\n",
       "</table>\n",
       "<p>3331 rows × 2 columns</p>\n",
       "</div>"
      ],
      "text/plain": [
       "        Budget      Gross\n",
       "0     48000000   76019048\n",
       "1     12000000   40716963\n",
       "2      7000000   95461682\n",
       "3     18000000   12000000\n",
       "4     11000000   31261269\n",
       "...        ...        ...\n",
       "3326  40000000  309232797\n",
       "3327   6000000   21171090\n",
       "3328  29900000   68631669\n",
       "3329   3000000   10691091\n",
       "3330  12000000   13681524\n",
       "\n",
       "[3331 rows x 2 columns]"
      ]
     },
     "execution_count": 44,
     "metadata": {},
     "output_type": "execute_result"
    }
   ],
   "source": [
    "# create a new dataframe with budget and gross\n",
    "budget_vs_gross = pd.DataFrame({'Budget': imdb_df['budget'], 'Gross': imdb_df['total_gross']}).reset_index(drop=True)\n",
    "budget_vs_gross"
   ]
  },
  {
   "cell_type": "code",
   "execution_count": 45,
   "id": "c689f09c",
   "metadata": {},
   "outputs": [],
   "source": [
    "# reshape into an array with shape\n",
    "X = budget_vs_gross.Budget.values.reshape(-1,1)"
   ]
  },
  {
   "cell_type": "code",
   "execution_count": 46,
   "id": "1c01b170",
   "metadata": {},
   "outputs": [
    {
     "data": {
      "text/plain": [
       "array([[48000000],\n",
       "       [12000000],\n",
       "       [ 7000000],\n",
       "       [18000000],\n",
       "       [11000000]], dtype=int64)"
      ]
     },
     "execution_count": 46,
     "metadata": {},
     "output_type": "execute_result"
    }
   ],
   "source": [
    "X[:5]"
   ]
  },
  {
   "cell_type": "code",
   "execution_count": 47,
   "id": "8d47b710",
   "metadata": {},
   "outputs": [
    {
     "data": {
      "text/plain": [
       "(3331, 1)"
      ]
     },
     "execution_count": 47,
     "metadata": {},
     "output_type": "execute_result"
    }
   ],
   "source": [
    "X.shape"
   ]
  },
  {
   "cell_type": "code",
   "execution_count": 48,
   "id": "c3f26194",
   "metadata": {},
   "outputs": [],
   "source": [
    "y = budget_vs_gross.Gross"
   ]
  },
  {
   "cell_type": "code",
   "execution_count": 49,
   "id": "d51903fa",
   "metadata": {},
   "outputs": [],
   "source": [
    "# create a linear regression model with scikit-learn\n",
    "from sklearn.linear_model import LinearRegression\n",
    "model = LinearRegression()"
   ]
  },
  {
   "cell_type": "code",
   "execution_count": 50,
   "id": "6e029885",
   "metadata": {},
   "outputs": [
    {
     "data": {
      "text/plain": [
       "LinearRegression()"
      ]
     },
     "execution_count": 50,
     "metadata": {},
     "output_type": "execute_result"
    }
   ],
   "source": [
    "# fit the data into the model\n",
    "model.fit(X, y)"
   ]
  },
  {
   "cell_type": "code",
   "execution_count": 51,
   "id": "5ae2a07a",
   "metadata": {},
   "outputs": [
    {
     "name": "stdout",
     "output_type": "stream",
     "text": [
      "(3331,)\n"
     ]
    }
   ],
   "source": [
    "y_pred = model.predict(X)\n",
    "print(y_pred.shape)"
   ]
  },
  {
   "cell_type": "code",
   "execution_count": 52,
   "id": "0194967d",
   "metadata": {},
   "outputs": [
    {
     "data": {
      "image/png": "[encoded data removed]",
      "text/plain": [
       "<Figure size 432x288 with 1 Axes>"
      ]
     },
     "metadata": {
      "needs_background": "light"
     },
     "output_type": "display_data"
    }
   ],
   "source": [
    "# create a scatter plot, the best fit line is red\n",
    "plt.scatter(X, y)\n",
    "plt.plot(X, y_pred, color='red')\n",
    "plt.show()"
   ]
  },
  {
   "cell_type": "code",
   "execution_count": 53,
   "id": "481463a8",
   "metadata": {},
   "outputs": [
    {
     "data": {
      "text/plain": [
       "20000000     136\n",
       "10000000     125\n",
       "30000000     121\n",
       "15000000     113\n",
       "25000000     113\n",
       "            ... \n",
       "260000000      1\n",
       "35200000       1\n",
       "725000         1\n",
       "4520000        1\n",
       "22700000       1\n",
       "Name: budget, Length: 324, dtype: int64"
      ]
     },
     "execution_count": 53,
     "metadata": {},
     "output_type": "execute_result"
    }
   ],
   "source": [
    "# get budget counts\n",
    "budget_counts = imdb_df.budget.value_counts()\n",
    "budget_counts"
   ]
  },
  {
   "cell_type": "code",
   "execution_count": 54,
   "id": "235922ee",
   "metadata": {},
   "outputs": [],
   "source": [
    "budget_vs_gross['Budget_bins'] = pd.cut(budget_vs_gross['Budget'],15)"
   ]
  },
  {
   "cell_type": "code",
   "execution_count": 55,
   "id": "b81e7910",
   "metadata": {},
   "outputs": [
    {
     "data": {
      "text/plain": [
       "Budget_bins\n",
       "(-354999.0, 23734266.667]         1938\n",
       "(23734266.667, 47467533.333]       720\n",
       "(47467533.333, 71200800.0]         303\n",
       "(71200800.0, 94934066.667]         147\n",
       "(94934066.667, 118667333.333]       64\n",
       "(118667333.333, 142400600.0]        50\n",
       "(142400600.0, 166133866.667]        45\n",
       "(166133866.667, 189867133.333]      21\n",
       "(189867133.333, 213600400.0]        23\n",
       "(213600400.0, 237333666.667]         6\n",
       "(237333666.667, 261066933.333]       7\n",
       "(261066933.333, 284800200.0]         3\n",
       "(284800200.0, 308533466.667]         1\n",
       "(308533466.667, 332266733.333]       2\n",
       "(332266733.333, 356000000.0]         1\n",
       "Name: Budget_bins, dtype: int64"
      ]
     },
     "execution_count": 55,
     "metadata": {},
     "output_type": "execute_result"
    }
   ],
   "source": [
    "budget_vs_gross.groupby('Budget_bins')['Budget_bins'].count()"
   ]
  },
  {
   "cell_type": "code",
   "execution_count": 56,
   "id": "935aeb7f",
   "metadata": {},
   "outputs": [],
   "source": [
    "# increase budget to see if gross is higher\n",
    "higher_budget = budget_vs_gross.drop(budget_vs_gross[(budget_vs_gross['Budget']>100000000)].index).reset_index(drop=True)"
   ]
  },
  {
   "cell_type": "code",
   "execution_count": 57,
   "id": "b83a6707",
   "metadata": {},
   "outputs": [
    {
     "data": {
      "text/plain": [
       "<seaborn.axisgrid.JointGrid at 0x1ae00704288>"
      ]
     },
     "execution_count": 57,
     "metadata": {},
     "output_type": "execute_result"
    },
    {
     "data": {
      "image/png": "[encoded data removed]",
      "text/plain": [
       "<Figure size 568.8x568.8 with 3 Axes>"
      ]
     },
     "metadata": {
      "needs_background": "light"
     },
     "output_type": "display_data"
    }
   ],
   "source": [
    "# create a new scatter plot with sns instead of plt\n",
    "sns.jointplot(x=(higher_budget['Budget']), y=(higher_budget['Gross']), kind='reg', height=7.9)"
   ]
  },
  {
   "cell_type": "code",
   "execution_count": 58,
   "id": "a462af37",
   "metadata": {},
   "outputs": [
    {
     "data": {
      "text/plain": [
       "0.5656217702913632"
      ]
     },
     "execution_count": 58,
     "metadata": {},
     "output_type": "execute_result"
    }
   ],
   "source": [
    "higher_budget['Budget'].corr(higher_budget['Gross'])"
   ]
  },
  {
   "cell_type": "code",
   "execution_count": 59,
   "id": "9f7ab075",
   "metadata": {},
   "outputs": [
    {
     "data": {
      "text/plain": [
       "0.6356128080378259"
      ]
     },
     "execution_count": 59,
     "metadata": {},
     "output_type": "execute_result"
    }
   ],
   "source": [
    "imdb_df['budget'].corr(imdb_df['net_income'])"
   ]
  },
  {
   "cell_type": "code",
   "execution_count": 60,
   "id": "0865cb27",
   "metadata": {},
   "outputs": [
    {
     "data": {
      "text/plain": [
       "nan"
      ]
     },
     "execution_count": 60,
     "metadata": {},
     "output_type": "execute_result"
    }
   ],
   "source": [
    "higher_budget['Budget'].corr(imdb_df['net_income'])"
   ]
  },
  {
   "cell_type": "code",
   "execution_count": 61,
   "id": "d9a9ef99",
   "metadata": {},
   "outputs": [
    {
     "data": {
      "text/plain": [
       "0.3880560981468493"
      ]
     },
     "execution_count": 61,
     "metadata": {},
     "output_type": "execute_result"
    }
   ],
   "source": [
    "higher_budget['net'] = higher_budget['Gross'] - higher_budget['Budget']\n",
    "higher_budget['Budget'].corr(higher_budget['net'])"
   ]
  },
  {
   "cell_type": "markdown",
   "id": "42af1173",
   "metadata": {},
   "source": [
    "Using all budgets from original dataframe, there is no effect on net income. However, when the budget range was raised to above 100,000,000 there is a noticeable effect on net income"
   ]
  },
  {
   "cell_type": "code",
   "execution_count": 62,
   "id": "9eb9be01",
   "metadata": {},
   "outputs": [
    {
     "data": {
      "text/plain": [
       "<AxesSubplot:>"
      ]
     },
     "execution_count": 62,
     "metadata": {},
     "output_type": "execute_result"
    },
    {
     "data": {
      "text/plain": [
       "<Figure size 1500x700 with 0 Axes>"
      ]
     },
     "metadata": {},
     "output_type": "display_data"
    },
    {
     "data": {
      "image/png": "[encoded data removed]",
      "text/plain": [
       "<Figure size 1296x576 with 2 Axes>"
      ]
     },
     "metadata": {
      "needs_background": "light"
     },
     "output_type": "display_data"
    }
   ],
   "source": [
    "# creating a new heat map with higher budget\n",
    "plt.figure(figsize=(15,7),dpi=100,)\n",
    "plt.subplots(figsize=(18,8))\n",
    "sns.heatmap(data=higher_budget.corr(),square=True,vmax=0.8,annot=True)"
   ]
  },
  {
   "cell_type": "markdown",
   "id": "ee55d1fc",
   "metadata": {},
   "source": [
    "Hypothesis: A hit movie is going to be one that has a budget lower than 5 million , while grossing over 2 million and having a profit greater than 500 percent of net. A hit movie can also be one with a budget greater than 5 million while having profit higher than 150 percent of net."
   ]
  },
  {
   "cell_type": "code",
   "execution_count": null,
   "id": "ffa467ce",
   "metadata": {},
   "outputs": [],
   "source": [
    "# create new blockbuster column\n",
    "imdb_df['net'] = (imdb_df['gross'] - imdb_df['budget'])/imdb_df['budget']\n",
    "imdb_df['blockbuster'] = 0"
   ]
  },
  {
   "cell_type": "code",
   "execution_count": null,
   "id": "bbcc3f16",
   "metadata": {},
   "outputs": [],
   "source": [
    "imdb_df"
   ]
  },
  {
   "cell_type": "code",
   "execution_count": null,
   "id": "29f568a3",
   "metadata": {},
   "outputs": [],
   "source": [
    "imdb_df = imdb_df[['title', 'year', 'month', 'genre', 'duration', 'country',\n",
    "       'language', 'avg_vote', 'votes', 'budget', 'gross', 'net_income', 'net', 'metascore', 'meta_hit', 'blockbuster']]"
   ]
  },
  {
   "cell_type": "code",
   "execution_count": null,
   "id": "55ec274a",
   "metadata": {},
   "outputs": [],
   "source": [
    "# remove outliers\n",
    "imdb_df = imdb_df.drop(imdb_df[(imdb_df['budget']>100000000)].index).reset_index(drop=True)"
   ]
  },
  {
   "cell_type": "code",
   "execution_count": null,
   "id": "8b439e45",
   "metadata": {},
   "outputs": [],
   "source": [
    "imdb_df['budget'].hist()"
   ]
  },
  {
   "cell_type": "code",
   "execution_count": null,
   "id": "7ad21a55",
   "metadata": {},
   "outputs": [],
   "source": [
    "# split data\n",
    "movies1 = imdb_df[imdb_df['budget']<5000000]\n",
    "movies2 = imdb_df[imdb_df['budget']>=5000000]"
   ]
  },
  {
   "cell_type": "code",
   "execution_count": null,
   "id": "f00e6263",
   "metadata": {},
   "outputs": [],
   "source": [
    "movies1_under = movies1[movies1['gross']<2000000]\n",
    "movies1_over = movies1[movies1['gross']>=2000000]"
   ]
  },
  {
   "cell_type": "code",
   "execution_count": null,
   "id": "a9f4b8b5",
   "metadata": {},
   "outputs": [],
   "source": [
    "# set blockbuster condition\n",
    "movies1_over['blockbuster'] = movies1_over['net'].apply(lambda x : 1 if x>=5 else 0)"
   ]
  },
  {
   "cell_type": "code",
   "execution_count": null,
   "id": "b981de1f",
   "metadata": {},
   "outputs": [],
   "source": [
    "movies1 = pd.concat([movies1_over, movies1_under])"
   ]
  },
  {
   "cell_type": "code",
   "execution_count": null,
   "id": "3cd2221b",
   "metadata": {},
   "outputs": [],
   "source": [
    "movies1.groupby('blockbuster')['blockbuster'].count()"
   ]
  },
  {
   "cell_type": "code",
   "execution_count": null,
   "id": "efe9fbc0",
   "metadata": {},
   "outputs": [],
   "source": [
    "# set blockbuster condition\n",
    "movies2['blockbuster'] = movies2['net'].apply(lambda x : 1 if x>=1.5 else 0)"
   ]
  },
  {
   "cell_type": "code",
   "execution_count": null,
   "id": "3f71393a",
   "metadata": {},
   "outputs": [],
   "source": [
    "movies2.groupby('blockbuster')['blockbuster'].count()"
   ]
  },
  {
   "cell_type": "code",
   "execution_count": null,
   "id": "b3b26d40",
   "metadata": {},
   "outputs": [],
   "source": [
    "imdb_df = pd.concat([movies1, movies2])"
   ]
  },
  {
   "cell_type": "code",
   "execution_count": null,
   "id": "51d988e7",
   "metadata": {},
   "outputs": [],
   "source": [
    "imdb_df.groupby('blockbuster')['blockbuster'].count()"
   ]
  },
  {
   "cell_type": "code",
   "execution_count": null,
   "id": "5a3927d4",
   "metadata": {},
   "outputs": [],
   "source": [
    "# create bins for month movie was released\n",
    "imdb_df['month_bin'] = pd.cut(imdb_df['month'],4)"
   ]
  },
  {
   "cell_type": "code",
   "execution_count": null,
   "id": "4e8182d4",
   "metadata": {},
   "outputs": [],
   "source": [
    "imdb_df.groupby('month_bin')['month_bin'].count()"
   ]
  },
  {
   "cell_type": "code",
   "execution_count": null,
   "id": "0af9a0e0",
   "metadata": {},
   "outputs": [],
   "source": [
    "imdb_df"
   ]
  },
  {
   "cell_type": "code",
   "execution_count": null,
   "id": "827c3047",
   "metadata": {},
   "outputs": [],
   "source": [
    "imdb_df['duration_bins'] = pd.cut(imdb_df['duration'], 12)"
   ]
  },
  {
   "cell_type": "code",
   "execution_count": null,
   "id": "b21daf91",
   "metadata": {},
   "outputs": [],
   "source": [
    "genre_split = imdb_df['genre'].str.split('|').apply(Series, 1).stack()\n",
    "genre_split.index = genre_split.index.droplevel(-1)\n",
    "genre_split.name = 'genre'\n",
    "del imdb_df['genre']\n",
    "imdb_df = imdb_df.join(genre_split)"
   ]
  },
  {
   "cell_type": "code",
   "execution_count": null,
   "id": "c3003235",
   "metadata": {},
   "outputs": [],
   "source": [
    "imdb_df.info()"
   ]
  },
  {
   "cell_type": "code",
   "execution_count": null,
   "id": "78647c60",
   "metadata": {},
   "outputs": [],
   "source": [
    "log_columns = ['']"
   ]
  }
 ],
 "metadata": {
  "kernelspec": {
   "display_name": "mlenv",
   "language": "python",
   "name": "mlenv"
  },
  "language_info": {
   "codemirror_mode": {
    "name": "ipython",
    "version": 3
   },
   "file_extension": ".py",
   "mimetype": "text/x-python",
   "name": "python",
   "nbconvert_exporter": "python",
   "pygments_lexer": "ipython3",
   "version": "3.7.10"
  }
 },
 "nbformat": 4,
 "nbformat_minor": 5
}
